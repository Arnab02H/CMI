{
  "nbformat": 4,
  "nbformat_minor": 0,
  "metadata": {
    "colab": {
      "provenance": [],
      "gpuType": "T4"
    },
    "kernelspec": {
      "name": "python3",
      "display_name": "Python 3"
    },
    "language_info": {
      "name": "python"
    },
    "accelerator": "GPU",
    "widgets": {
      "application/vnd.jupyter.widget-state+json": {
        "b62cca89f3174575b3cb878c545d13c1": {
          "model_module": "@jupyter-widgets/controls",
          "model_name": "HBoxModel",
          "model_module_version": "1.5.0",
          "state": {
            "_dom_classes": [],
            "_model_module": "@jupyter-widgets/controls",
            "_model_module_version": "1.5.0",
            "_model_name": "HBoxModel",
            "_view_count": null,
            "_view_module": "@jupyter-widgets/controls",
            "_view_module_version": "1.5.0",
            "_view_name": "HBoxView",
            "box_style": "",
            "children": [
              "IPY_MODEL_c12f8c065ecd4c7899822e877394e1f1",
              "IPY_MODEL_cdcc58a2e9124da7acbc64bfa9af4eaa",
              "IPY_MODEL_7c0ac486d6644c94b72955a903e27768"
            ],
            "layout": "IPY_MODEL_a017c25464094ff2a1ccf5588f8b04fc"
          }
        },
        "c12f8c065ecd4c7899822e877394e1f1": {
          "model_module": "@jupyter-widgets/controls",
          "model_name": "HTMLModel",
          "model_module_version": "1.5.0",
          "state": {
            "_dom_classes": [],
            "_model_module": "@jupyter-widgets/controls",
            "_model_module_version": "1.5.0",
            "_model_name": "HTMLModel",
            "_view_count": null,
            "_view_module": "@jupyter-widgets/controls",
            "_view_module_version": "1.5.0",
            "_view_name": "HTMLView",
            "description": "",
            "description_tooltip": null,
            "layout": "IPY_MODEL_2e3023bb667d4829bbc881ae4074b923",
            "placeholder": "​",
            "style": "IPY_MODEL_c269c36303ed446a85ca5bd5e5aa46fc",
            "value": "README.md: "
          }
        },
        "cdcc58a2e9124da7acbc64bfa9af4eaa": {
          "model_module": "@jupyter-widgets/controls",
          "model_name": "FloatProgressModel",
          "model_module_version": "1.5.0",
          "state": {
            "_dom_classes": [],
            "_model_module": "@jupyter-widgets/controls",
            "_model_module_version": "1.5.0",
            "_model_name": "FloatProgressModel",
            "_view_count": null,
            "_view_module": "@jupyter-widgets/controls",
            "_view_module_version": "1.5.0",
            "_view_name": "ProgressView",
            "bar_style": "success",
            "description": "",
            "description_tooltip": null,
            "layout": "IPY_MODEL_1bd81fd3b3714dc395b51932059215a1",
            "max": 1,
            "min": 0,
            "orientation": "horizontal",
            "style": "IPY_MODEL_090ab3dc3e5d4ed5ac42b8a55028555f",
            "value": 1
          }
        },
        "7c0ac486d6644c94b72955a903e27768": {
          "model_module": "@jupyter-widgets/controls",
          "model_name": "HTMLModel",
          "model_module_version": "1.5.0",
          "state": {
            "_dom_classes": [],
            "_model_module": "@jupyter-widgets/controls",
            "_model_module_version": "1.5.0",
            "_model_name": "HTMLModel",
            "_view_count": null,
            "_view_module": "@jupyter-widgets/controls",
            "_view_module_version": "1.5.0",
            "_view_name": "HTMLView",
            "description": "",
            "description_tooltip": null,
            "layout": "IPY_MODEL_a0784e73b4a741edaae82513a4f5a413",
            "placeholder": "​",
            "style": "IPY_MODEL_9af28a1dfb8248faa0108cedc839aceb",
            "value": " 1.79k/? [00:00&lt;00:00, 189kB/s]"
          }
        },
        "a017c25464094ff2a1ccf5588f8b04fc": {
          "model_module": "@jupyter-widgets/base",
          "model_name": "LayoutModel",
          "model_module_version": "1.2.0",
          "state": {
            "_model_module": "@jupyter-widgets/base",
            "_model_module_version": "1.2.0",
            "_model_name": "LayoutModel",
            "_view_count": null,
            "_view_module": "@jupyter-widgets/base",
            "_view_module_version": "1.2.0",
            "_view_name": "LayoutView",
            "align_content": null,
            "align_items": null,
            "align_self": null,
            "border": null,
            "bottom": null,
            "display": null,
            "flex": null,
            "flex_flow": null,
            "grid_area": null,
            "grid_auto_columns": null,
            "grid_auto_flow": null,
            "grid_auto_rows": null,
            "grid_column": null,
            "grid_gap": null,
            "grid_row": null,
            "grid_template_areas": null,
            "grid_template_columns": null,
            "grid_template_rows": null,
            "height": null,
            "justify_content": null,
            "justify_items": null,
            "left": null,
            "margin": null,
            "max_height": null,
            "max_width": null,
            "min_height": null,
            "min_width": null,
            "object_fit": null,
            "object_position": null,
            "order": null,
            "overflow": null,
            "overflow_x": null,
            "overflow_y": null,
            "padding": null,
            "right": null,
            "top": null,
            "visibility": null,
            "width": null
          }
        },
        "2e3023bb667d4829bbc881ae4074b923": {
          "model_module": "@jupyter-widgets/base",
          "model_name": "LayoutModel",
          "model_module_version": "1.2.0",
          "state": {
            "_model_module": "@jupyter-widgets/base",
            "_model_module_version": "1.2.0",
            "_model_name": "LayoutModel",
            "_view_count": null,
            "_view_module": "@jupyter-widgets/base",
            "_view_module_version": "1.2.0",
            "_view_name": "LayoutView",
            "align_content": null,
            "align_items": null,
            "align_self": null,
            "border": null,
            "bottom": null,
            "display": null,
            "flex": null,
            "flex_flow": null,
            "grid_area": null,
            "grid_auto_columns": null,
            "grid_auto_flow": null,
            "grid_auto_rows": null,
            "grid_column": null,
            "grid_gap": null,
            "grid_row": null,
            "grid_template_areas": null,
            "grid_template_columns": null,
            "grid_template_rows": null,
            "height": null,
            "justify_content": null,
            "justify_items": null,
            "left": null,
            "margin": null,
            "max_height": null,
            "max_width": null,
            "min_height": null,
            "min_width": null,
            "object_fit": null,
            "object_position": null,
            "order": null,
            "overflow": null,
            "overflow_x": null,
            "overflow_y": null,
            "padding": null,
            "right": null,
            "top": null,
            "visibility": null,
            "width": null
          }
        },
        "c269c36303ed446a85ca5bd5e5aa46fc": {
          "model_module": "@jupyter-widgets/controls",
          "model_name": "DescriptionStyleModel",
          "model_module_version": "1.5.0",
          "state": {
            "_model_module": "@jupyter-widgets/controls",
            "_model_module_version": "1.5.0",
            "_model_name": "DescriptionStyleModel",
            "_view_count": null,
            "_view_module": "@jupyter-widgets/base",
            "_view_module_version": "1.2.0",
            "_view_name": "StyleView",
            "description_width": ""
          }
        },
        "1bd81fd3b3714dc395b51932059215a1": {
          "model_module": "@jupyter-widgets/base",
          "model_name": "LayoutModel",
          "model_module_version": "1.2.0",
          "state": {
            "_model_module": "@jupyter-widgets/base",
            "_model_module_version": "1.2.0",
            "_model_name": "LayoutModel",
            "_view_count": null,
            "_view_module": "@jupyter-widgets/base",
            "_view_module_version": "1.2.0",
            "_view_name": "LayoutView",
            "align_content": null,
            "align_items": null,
            "align_self": null,
            "border": null,
            "bottom": null,
            "display": null,
            "flex": null,
            "flex_flow": null,
            "grid_area": null,
            "grid_auto_columns": null,
            "grid_auto_flow": null,
            "grid_auto_rows": null,
            "grid_column": null,
            "grid_gap": null,
            "grid_row": null,
            "grid_template_areas": null,
            "grid_template_columns": null,
            "grid_template_rows": null,
            "height": null,
            "justify_content": null,
            "justify_items": null,
            "left": null,
            "margin": null,
            "max_height": null,
            "max_width": null,
            "min_height": null,
            "min_width": null,
            "object_fit": null,
            "object_position": null,
            "order": null,
            "overflow": null,
            "overflow_x": null,
            "overflow_y": null,
            "padding": null,
            "right": null,
            "top": null,
            "visibility": null,
            "width": "20px"
          }
        },
        "090ab3dc3e5d4ed5ac42b8a55028555f": {
          "model_module": "@jupyter-widgets/controls",
          "model_name": "ProgressStyleModel",
          "model_module_version": "1.5.0",
          "state": {
            "_model_module": "@jupyter-widgets/controls",
            "_model_module_version": "1.5.0",
            "_model_name": "ProgressStyleModel",
            "_view_count": null,
            "_view_module": "@jupyter-widgets/base",
            "_view_module_version": "1.2.0",
            "_view_name": "StyleView",
            "bar_color": null,
            "description_width": ""
          }
        },
        "a0784e73b4a741edaae82513a4f5a413": {
          "model_module": "@jupyter-widgets/base",
          "model_name": "LayoutModel",
          "model_module_version": "1.2.0",
          "state": {
            "_model_module": "@jupyter-widgets/base",
            "_model_module_version": "1.2.0",
            "_model_name": "LayoutModel",
            "_view_count": null,
            "_view_module": "@jupyter-widgets/base",
            "_view_module_version": "1.2.0",
            "_view_name": "LayoutView",
            "align_content": null,
            "align_items": null,
            "align_self": null,
            "border": null,
            "bottom": null,
            "display": null,
            "flex": null,
            "flex_flow": null,
            "grid_area": null,
            "grid_auto_columns": null,
            "grid_auto_flow": null,
            "grid_auto_rows": null,
            "grid_column": null,
            "grid_gap": null,
            "grid_row": null,
            "grid_template_areas": null,
            "grid_template_columns": null,
            "grid_template_rows": null,
            "height": null,
            "justify_content": null,
            "justify_items": null,
            "left": null,
            "margin": null,
            "max_height": null,
            "max_width": null,
            "min_height": null,
            "min_width": null,
            "object_fit": null,
            "object_position": null,
            "order": null,
            "overflow": null,
            "overflow_x": null,
            "overflow_y": null,
            "padding": null,
            "right": null,
            "top": null,
            "visibility": null,
            "width": null
          }
        },
        "9af28a1dfb8248faa0108cedc839aceb": {
          "model_module": "@jupyter-widgets/controls",
          "model_name": "DescriptionStyleModel",
          "model_module_version": "1.5.0",
          "state": {
            "_model_module": "@jupyter-widgets/controls",
            "_model_module_version": "1.5.0",
            "_model_name": "DescriptionStyleModel",
            "_view_count": null,
            "_view_module": "@jupyter-widgets/base",
            "_view_module_version": "1.2.0",
            "_view_name": "StyleView",
            "description_width": ""
          }
        },
        "a18a132aa12f49458da89f90a8fbbe28": {
          "model_module": "@jupyter-widgets/controls",
          "model_name": "HBoxModel",
          "model_module_version": "1.5.0",
          "state": {
            "_dom_classes": [],
            "_model_module": "@jupyter-widgets/controls",
            "_model_module_version": "1.5.0",
            "_model_name": "HBoxModel",
            "_view_count": null,
            "_view_module": "@jupyter-widgets/controls",
            "_view_module_version": "1.5.0",
            "_view_name": "HBoxView",
            "box_style": "",
            "children": [
              "IPY_MODEL_f33c2e1793594d6f9399da67400dcd31",
              "IPY_MODEL_034a4271936941f5861ec280d11f4004",
              "IPY_MODEL_1afeb4238483403bbfad751e837c2e9e"
            ],
            "layout": "IPY_MODEL_0432875d9b3343cca431d27eb9cc1302"
          }
        },
        "f33c2e1793594d6f9399da67400dcd31": {
          "model_module": "@jupyter-widgets/controls",
          "model_name": "HTMLModel",
          "model_module_version": "1.5.0",
          "state": {
            "_dom_classes": [],
            "_model_module": "@jupyter-widgets/controls",
            "_model_module_version": "1.5.0",
            "_model_name": "HTMLModel",
            "_view_count": null,
            "_view_module": "@jupyter-widgets/controls",
            "_view_module_version": "1.5.0",
            "_view_name": "HTMLView",
            "description": "",
            "description_tooltip": null,
            "layout": "IPY_MODEL_62785e8d76984cf6a59e308c11a8a549",
            "placeholder": "​",
            "style": "IPY_MODEL_da583ba031a341d6921aed1c8e702da0",
            "value": "data/train-00000-of-00001-66ec62000fa1b4(…): 100%"
          }
        },
        "034a4271936941f5861ec280d11f4004": {
          "model_module": "@jupyter-widgets/controls",
          "model_name": "FloatProgressModel",
          "model_module_version": "1.5.0",
          "state": {
            "_dom_classes": [],
            "_model_module": "@jupyter-widgets/controls",
            "_model_module_version": "1.5.0",
            "_model_name": "FloatProgressModel",
            "_view_count": null,
            "_view_module": "@jupyter-widgets/controls",
            "_view_module_version": "1.5.0",
            "_view_name": "ProgressView",
            "bar_style": "success",
            "description": "",
            "description_tooltip": null,
            "layout": "IPY_MODEL_bede347717904144bcf9f6fa9dfdbf73",
            "max": 7095513,
            "min": 0,
            "orientation": "horizontal",
            "style": "IPY_MODEL_eefc3a6690f94c5fb4606d4b38f64ef4",
            "value": 7095513
          }
        },
        "1afeb4238483403bbfad751e837c2e9e": {
          "model_module": "@jupyter-widgets/controls",
          "model_name": "HTMLModel",
          "model_module_version": "1.5.0",
          "state": {
            "_dom_classes": [],
            "_model_module": "@jupyter-widgets/controls",
            "_model_module_version": "1.5.0",
            "_model_name": "HTMLModel",
            "_view_count": null,
            "_view_module": "@jupyter-widgets/controls",
            "_view_module_version": "1.5.0",
            "_view_name": "HTMLView",
            "description": "",
            "description_tooltip": null,
            "layout": "IPY_MODEL_e624f1a5b3bc412ab25315822940a42f",
            "placeholder": "​",
            "style": "IPY_MODEL_ea251ca96d174ef5bb46ddd98a6e34f7",
            "value": " 7.10M/7.10M [00:01&lt;00:00, 4.89MB/s]"
          }
        },
        "0432875d9b3343cca431d27eb9cc1302": {
          "model_module": "@jupyter-widgets/base",
          "model_name": "LayoutModel",
          "model_module_version": "1.2.0",
          "state": {
            "_model_module": "@jupyter-widgets/base",
            "_model_module_version": "1.2.0",
            "_model_name": "LayoutModel",
            "_view_count": null,
            "_view_module": "@jupyter-widgets/base",
            "_view_module_version": "1.2.0",
            "_view_name": "LayoutView",
            "align_content": null,
            "align_items": null,
            "align_self": null,
            "border": null,
            "bottom": null,
            "display": null,
            "flex": null,
            "flex_flow": null,
            "grid_area": null,
            "grid_auto_columns": null,
            "grid_auto_flow": null,
            "grid_auto_rows": null,
            "grid_column": null,
            "grid_gap": null,
            "grid_row": null,
            "grid_template_areas": null,
            "grid_template_columns": null,
            "grid_template_rows": null,
            "height": null,
            "justify_content": null,
            "justify_items": null,
            "left": null,
            "margin": null,
            "max_height": null,
            "max_width": null,
            "min_height": null,
            "min_width": null,
            "object_fit": null,
            "object_position": null,
            "order": null,
            "overflow": null,
            "overflow_x": null,
            "overflow_y": null,
            "padding": null,
            "right": null,
            "top": null,
            "visibility": null,
            "width": null
          }
        },
        "62785e8d76984cf6a59e308c11a8a549": {
          "model_module": "@jupyter-widgets/base",
          "model_name": "LayoutModel",
          "model_module_version": "1.2.0",
          "state": {
            "_model_module": "@jupyter-widgets/base",
            "_model_module_version": "1.2.0",
            "_model_name": "LayoutModel",
            "_view_count": null,
            "_view_module": "@jupyter-widgets/base",
            "_view_module_version": "1.2.0",
            "_view_name": "LayoutView",
            "align_content": null,
            "align_items": null,
            "align_self": null,
            "border": null,
            "bottom": null,
            "display": null,
            "flex": null,
            "flex_flow": null,
            "grid_area": null,
            "grid_auto_columns": null,
            "grid_auto_flow": null,
            "grid_auto_rows": null,
            "grid_column": null,
            "grid_gap": null,
            "grid_row": null,
            "grid_template_areas": null,
            "grid_template_columns": null,
            "grid_template_rows": null,
            "height": null,
            "justify_content": null,
            "justify_items": null,
            "left": null,
            "margin": null,
            "max_height": null,
            "max_width": null,
            "min_height": null,
            "min_width": null,
            "object_fit": null,
            "object_position": null,
            "order": null,
            "overflow": null,
            "overflow_x": null,
            "overflow_y": null,
            "padding": null,
            "right": null,
            "top": null,
            "visibility": null,
            "width": null
          }
        },
        "da583ba031a341d6921aed1c8e702da0": {
          "model_module": "@jupyter-widgets/controls",
          "model_name": "DescriptionStyleModel",
          "model_module_version": "1.5.0",
          "state": {
            "_model_module": "@jupyter-widgets/controls",
            "_model_module_version": "1.5.0",
            "_model_name": "DescriptionStyleModel",
            "_view_count": null,
            "_view_module": "@jupyter-widgets/base",
            "_view_module_version": "1.2.0",
            "_view_name": "StyleView",
            "description_width": ""
          }
        },
        "bede347717904144bcf9f6fa9dfdbf73": {
          "model_module": "@jupyter-widgets/base",
          "model_name": "LayoutModel",
          "model_module_version": "1.2.0",
          "state": {
            "_model_module": "@jupyter-widgets/base",
            "_model_module_version": "1.2.0",
            "_model_name": "LayoutModel",
            "_view_count": null,
            "_view_module": "@jupyter-widgets/base",
            "_view_module_version": "1.2.0",
            "_view_name": "LayoutView",
            "align_content": null,
            "align_items": null,
            "align_self": null,
            "border": null,
            "bottom": null,
            "display": null,
            "flex": null,
            "flex_flow": null,
            "grid_area": null,
            "grid_auto_columns": null,
            "grid_auto_flow": null,
            "grid_auto_rows": null,
            "grid_column": null,
            "grid_gap": null,
            "grid_row": null,
            "grid_template_areas": null,
            "grid_template_columns": null,
            "grid_template_rows": null,
            "height": null,
            "justify_content": null,
            "justify_items": null,
            "left": null,
            "margin": null,
            "max_height": null,
            "max_width": null,
            "min_height": null,
            "min_width": null,
            "object_fit": null,
            "object_position": null,
            "order": null,
            "overflow": null,
            "overflow_x": null,
            "overflow_y": null,
            "padding": null,
            "right": null,
            "top": null,
            "visibility": null,
            "width": null
          }
        },
        "eefc3a6690f94c5fb4606d4b38f64ef4": {
          "model_module": "@jupyter-widgets/controls",
          "model_name": "ProgressStyleModel",
          "model_module_version": "1.5.0",
          "state": {
            "_model_module": "@jupyter-widgets/controls",
            "_model_module_version": "1.5.0",
            "_model_name": "ProgressStyleModel",
            "_view_count": null,
            "_view_module": "@jupyter-widgets/base",
            "_view_module_version": "1.2.0",
            "_view_name": "StyleView",
            "bar_color": null,
            "description_width": ""
          }
        },
        "e624f1a5b3bc412ab25315822940a42f": {
          "model_module": "@jupyter-widgets/base",
          "model_name": "LayoutModel",
          "model_module_version": "1.2.0",
          "state": {
            "_model_module": "@jupyter-widgets/base",
            "_model_module_version": "1.2.0",
            "_model_name": "LayoutModel",
            "_view_count": null,
            "_view_module": "@jupyter-widgets/base",
            "_view_module_version": "1.2.0",
            "_view_name": "LayoutView",
            "align_content": null,
            "align_items": null,
            "align_self": null,
            "border": null,
            "bottom": null,
            "display": null,
            "flex": null,
            "flex_flow": null,
            "grid_area": null,
            "grid_auto_columns": null,
            "grid_auto_flow": null,
            "grid_auto_rows": null,
            "grid_column": null,
            "grid_gap": null,
            "grid_row": null,
            "grid_template_areas": null,
            "grid_template_columns": null,
            "grid_template_rows": null,
            "height": null,
            "justify_content": null,
            "justify_items": null,
            "left": null,
            "margin": null,
            "max_height": null,
            "max_width": null,
            "min_height": null,
            "min_width": null,
            "object_fit": null,
            "object_position": null,
            "order": null,
            "overflow": null,
            "overflow_x": null,
            "overflow_y": null,
            "padding": null,
            "right": null,
            "top": null,
            "visibility": null,
            "width": null
          }
        },
        "ea251ca96d174ef5bb46ddd98a6e34f7": {
          "model_module": "@jupyter-widgets/controls",
          "model_name": "DescriptionStyleModel",
          "model_module_version": "1.5.0",
          "state": {
            "_model_module": "@jupyter-widgets/controls",
            "_model_module_version": "1.5.0",
            "_model_name": "DescriptionStyleModel",
            "_view_count": null,
            "_view_module": "@jupyter-widgets/base",
            "_view_module_version": "1.2.0",
            "_view_name": "StyleView",
            "description_width": ""
          }
        },
        "0f33781710e441639124bd6ea359fddf": {
          "model_module": "@jupyter-widgets/controls",
          "model_name": "HBoxModel",
          "model_module_version": "1.5.0",
          "state": {
            "_dom_classes": [],
            "_model_module": "@jupyter-widgets/controls",
            "_model_module_version": "1.5.0",
            "_model_name": "HBoxModel",
            "_view_count": null,
            "_view_module": "@jupyter-widgets/controls",
            "_view_module_version": "1.5.0",
            "_view_name": "HBoxView",
            "box_style": "",
            "children": [
              "IPY_MODEL_bbf6012ce9bc4325a5bfd744fbf2f01d",
              "IPY_MODEL_ae7bbacbb44344aba8af17745232943a",
              "IPY_MODEL_f238b34a176e4ab997718c5b9e2f6877"
            ],
            "layout": "IPY_MODEL_cd77ac7ea2134e22a57864591b563a05"
          }
        },
        "bbf6012ce9bc4325a5bfd744fbf2f01d": {
          "model_module": "@jupyter-widgets/controls",
          "model_name": "HTMLModel",
          "model_module_version": "1.5.0",
          "state": {
            "_dom_classes": [],
            "_model_module": "@jupyter-widgets/controls",
            "_model_module_version": "1.5.0",
            "_model_name": "HTMLModel",
            "_view_count": null,
            "_view_module": "@jupyter-widgets/controls",
            "_view_module_version": "1.5.0",
            "_view_name": "HTMLView",
            "description": "",
            "description_tooltip": null,
            "layout": "IPY_MODEL_26e3968a16774ed381cb2df280e474a8",
            "placeholder": "​",
            "style": "IPY_MODEL_38161282933b44bcaae552474b6da55c",
            "value": "data/test-00000-of-00001-1136ef192260594(…): 100%"
          }
        },
        "ae7bbacbb44344aba8af17745232943a": {
          "model_module": "@jupyter-widgets/controls",
          "model_name": "FloatProgressModel",
          "model_module_version": "1.5.0",
          "state": {
            "_dom_classes": [],
            "_model_module": "@jupyter-widgets/controls",
            "_model_module_version": "1.5.0",
            "_model_name": "FloatProgressModel",
            "_view_count": null,
            "_view_module": "@jupyter-widgets/controls",
            "_view_module_version": "1.5.0",
            "_view_name": "ProgressView",
            "bar_style": "success",
            "description": "",
            "description_tooltip": null,
            "layout": "IPY_MODEL_7fe263199754491fb8c68bfd3a7bb5a7",
            "max": 1769645,
            "min": 0,
            "orientation": "horizontal",
            "style": "IPY_MODEL_af868fb6034e40a6bf44b6d67e8675f6",
            "value": 1769645
          }
        },
        "f238b34a176e4ab997718c5b9e2f6877": {
          "model_module": "@jupyter-widgets/controls",
          "model_name": "HTMLModel",
          "model_module_version": "1.5.0",
          "state": {
            "_dom_classes": [],
            "_model_module": "@jupyter-widgets/controls",
            "_model_module_version": "1.5.0",
            "_model_name": "HTMLModel",
            "_view_count": null,
            "_view_module": "@jupyter-widgets/controls",
            "_view_module_version": "1.5.0",
            "_view_name": "HTMLView",
            "description": "",
            "description_tooltip": null,
            "layout": "IPY_MODEL_47be9ccc5081418585f3c8aa498ae269",
            "placeholder": "​",
            "style": "IPY_MODEL_5bbb406b5c26441b8197371994ba49b6",
            "value": " 1.77M/1.77M [00:00&lt;00:00, 2.67MB/s]"
          }
        },
        "cd77ac7ea2134e22a57864591b563a05": {
          "model_module": "@jupyter-widgets/base",
          "model_name": "LayoutModel",
          "model_module_version": "1.2.0",
          "state": {
            "_model_module": "@jupyter-widgets/base",
            "_model_module_version": "1.2.0",
            "_model_name": "LayoutModel",
            "_view_count": null,
            "_view_module": "@jupyter-widgets/base",
            "_view_module_version": "1.2.0",
            "_view_name": "LayoutView",
            "align_content": null,
            "align_items": null,
            "align_self": null,
            "border": null,
            "bottom": null,
            "display": null,
            "flex": null,
            "flex_flow": null,
            "grid_area": null,
            "grid_auto_columns": null,
            "grid_auto_flow": null,
            "grid_auto_rows": null,
            "grid_column": null,
            "grid_gap": null,
            "grid_row": null,
            "grid_template_areas": null,
            "grid_template_columns": null,
            "grid_template_rows": null,
            "height": null,
            "justify_content": null,
            "justify_items": null,
            "left": null,
            "margin": null,
            "max_height": null,
            "max_width": null,
            "min_height": null,
            "min_width": null,
            "object_fit": null,
            "object_position": null,
            "order": null,
            "overflow": null,
            "overflow_x": null,
            "overflow_y": null,
            "padding": null,
            "right": null,
            "top": null,
            "visibility": null,
            "width": null
          }
        },
        "26e3968a16774ed381cb2df280e474a8": {
          "model_module": "@jupyter-widgets/base",
          "model_name": "LayoutModel",
          "model_module_version": "1.2.0",
          "state": {
            "_model_module": "@jupyter-widgets/base",
            "_model_module_version": "1.2.0",
            "_model_name": "LayoutModel",
            "_view_count": null,
            "_view_module": "@jupyter-widgets/base",
            "_view_module_version": "1.2.0",
            "_view_name": "LayoutView",
            "align_content": null,
            "align_items": null,
            "align_self": null,
            "border": null,
            "bottom": null,
            "display": null,
            "flex": null,
            "flex_flow": null,
            "grid_area": null,
            "grid_auto_columns": null,
            "grid_auto_flow": null,
            "grid_auto_rows": null,
            "grid_column": null,
            "grid_gap": null,
            "grid_row": null,
            "grid_template_areas": null,
            "grid_template_columns": null,
            "grid_template_rows": null,
            "height": null,
            "justify_content": null,
            "justify_items": null,
            "left": null,
            "margin": null,
            "max_height": null,
            "max_width": null,
            "min_height": null,
            "min_width": null,
            "object_fit": null,
            "object_position": null,
            "order": null,
            "overflow": null,
            "overflow_x": null,
            "overflow_y": null,
            "padding": null,
            "right": null,
            "top": null,
            "visibility": null,
            "width": null
          }
        },
        "38161282933b44bcaae552474b6da55c": {
          "model_module": "@jupyter-widgets/controls",
          "model_name": "DescriptionStyleModel",
          "model_module_version": "1.5.0",
          "state": {
            "_model_module": "@jupyter-widgets/controls",
            "_model_module_version": "1.5.0",
            "_model_name": "DescriptionStyleModel",
            "_view_count": null,
            "_view_module": "@jupyter-widgets/base",
            "_view_module_version": "1.2.0",
            "_view_name": "StyleView",
            "description_width": ""
          }
        },
        "7fe263199754491fb8c68bfd3a7bb5a7": {
          "model_module": "@jupyter-widgets/base",
          "model_name": "LayoutModel",
          "model_module_version": "1.2.0",
          "state": {
            "_model_module": "@jupyter-widgets/base",
            "_model_module_version": "1.2.0",
            "_model_name": "LayoutModel",
            "_view_count": null,
            "_view_module": "@jupyter-widgets/base",
            "_view_module_version": "1.2.0",
            "_view_name": "LayoutView",
            "align_content": null,
            "align_items": null,
            "align_self": null,
            "border": null,
            "bottom": null,
            "display": null,
            "flex": null,
            "flex_flow": null,
            "grid_area": null,
            "grid_auto_columns": null,
            "grid_auto_flow": null,
            "grid_auto_rows": null,
            "grid_column": null,
            "grid_gap": null,
            "grid_row": null,
            "grid_template_areas": null,
            "grid_template_columns": null,
            "grid_template_rows": null,
            "height": null,
            "justify_content": null,
            "justify_items": null,
            "left": null,
            "margin": null,
            "max_height": null,
            "max_width": null,
            "min_height": null,
            "min_width": null,
            "object_fit": null,
            "object_position": null,
            "order": null,
            "overflow": null,
            "overflow_x": null,
            "overflow_y": null,
            "padding": null,
            "right": null,
            "top": null,
            "visibility": null,
            "width": null
          }
        },
        "af868fb6034e40a6bf44b6d67e8675f6": {
          "model_module": "@jupyter-widgets/controls",
          "model_name": "ProgressStyleModel",
          "model_module_version": "1.5.0",
          "state": {
            "_model_module": "@jupyter-widgets/controls",
            "_model_module_version": "1.5.0",
            "_model_name": "ProgressStyleModel",
            "_view_count": null,
            "_view_module": "@jupyter-widgets/base",
            "_view_module_version": "1.2.0",
            "_view_name": "StyleView",
            "bar_color": null,
            "description_width": ""
          }
        },
        "47be9ccc5081418585f3c8aa498ae269": {
          "model_module": "@jupyter-widgets/base",
          "model_name": "LayoutModel",
          "model_module_version": "1.2.0",
          "state": {
            "_model_module": "@jupyter-widgets/base",
            "_model_module_version": "1.2.0",
            "_model_name": "LayoutModel",
            "_view_count": null,
            "_view_module": "@jupyter-widgets/base",
            "_view_module_version": "1.2.0",
            "_view_name": "LayoutView",
            "align_content": null,
            "align_items": null,
            "align_self": null,
            "border": null,
            "bottom": null,
            "display": null,
            "flex": null,
            "flex_flow": null,
            "grid_area": null,
            "grid_auto_columns": null,
            "grid_auto_flow": null,
            "grid_auto_rows": null,
            "grid_column": null,
            "grid_gap": null,
            "grid_row": null,
            "grid_template_areas": null,
            "grid_template_columns": null,
            "grid_template_rows": null,
            "height": null,
            "justify_content": null,
            "justify_items": null,
            "left": null,
            "margin": null,
            "max_height": null,
            "max_width": null,
            "min_height": null,
            "min_width": null,
            "object_fit": null,
            "object_position": null,
            "order": null,
            "overflow": null,
            "overflow_x": null,
            "overflow_y": null,
            "padding": null,
            "right": null,
            "top": null,
            "visibility": null,
            "width": null
          }
        },
        "5bbb406b5c26441b8197371994ba49b6": {
          "model_module": "@jupyter-widgets/controls",
          "model_name": "DescriptionStyleModel",
          "model_module_version": "1.5.0",
          "state": {
            "_model_module": "@jupyter-widgets/controls",
            "_model_module_version": "1.5.0",
            "_model_name": "DescriptionStyleModel",
            "_view_count": null,
            "_view_module": "@jupyter-widgets/base",
            "_view_module_version": "1.2.0",
            "_view_name": "StyleView",
            "description_width": ""
          }
        },
        "44d2387212d544f38d6fff0f7a17bb4f": {
          "model_module": "@jupyter-widgets/controls",
          "model_name": "HBoxModel",
          "model_module_version": "1.5.0",
          "state": {
            "_dom_classes": [],
            "_model_module": "@jupyter-widgets/controls",
            "_model_module_version": "1.5.0",
            "_model_name": "HBoxModel",
            "_view_count": null,
            "_view_module": "@jupyter-widgets/controls",
            "_view_module_version": "1.5.0",
            "_view_name": "HBoxView",
            "box_style": "",
            "children": [
              "IPY_MODEL_6abdec33ec624772906be5eb13a44257",
              "IPY_MODEL_0cab3720d8564117898202e5bcd3bf41",
              "IPY_MODEL_37b10d7a3d744e22a1231f6a3d01117b"
            ],
            "layout": "IPY_MODEL_c737f4014fdb4c8a983123a28c40278f"
          }
        },
        "6abdec33ec624772906be5eb13a44257": {
          "model_module": "@jupyter-widgets/controls",
          "model_name": "HTMLModel",
          "model_module_version": "1.5.0",
          "state": {
            "_dom_classes": [],
            "_model_module": "@jupyter-widgets/controls",
            "_model_module_version": "1.5.0",
            "_model_name": "HTMLModel",
            "_view_count": null,
            "_view_module": "@jupyter-widgets/controls",
            "_view_module_version": "1.5.0",
            "_view_name": "HTMLView",
            "description": "",
            "description_tooltip": null,
            "layout": "IPY_MODEL_3c9f06b6b94f458da4295ba9ea8c06b2",
            "placeholder": "​",
            "style": "IPY_MODEL_2b1f4bd12edd407e829ea1df8290bec1",
            "value": "Generating train split: 100%"
          }
        },
        "0cab3720d8564117898202e5bcd3bf41": {
          "model_module": "@jupyter-widgets/controls",
          "model_name": "FloatProgressModel",
          "model_module_version": "1.5.0",
          "state": {
            "_dom_classes": [],
            "_model_module": "@jupyter-widgets/controls",
            "_model_module_version": "1.5.0",
            "_model_name": "FloatProgressModel",
            "_view_count": null,
            "_view_module": "@jupyter-widgets/controls",
            "_view_module_version": "1.5.0",
            "_view_name": "ProgressView",
            "bar_style": "success",
            "description": "",
            "description_tooltip": null,
            "layout": "IPY_MODEL_934628344f3244dea8a7e36ac643d0de",
            "max": 14979,
            "min": 0,
            "orientation": "horizontal",
            "style": "IPY_MODEL_6570387b679d4e2fa3933e5905262625",
            "value": 14979
          }
        },
        "37b10d7a3d744e22a1231f6a3d01117b": {
          "model_module": "@jupyter-widgets/controls",
          "model_name": "HTMLModel",
          "model_module_version": "1.5.0",
          "state": {
            "_dom_classes": [],
            "_model_module": "@jupyter-widgets/controls",
            "_model_module_version": "1.5.0",
            "_model_name": "HTMLModel",
            "_view_count": null,
            "_view_module": "@jupyter-widgets/controls",
            "_view_module_version": "1.5.0",
            "_view_name": "HTMLView",
            "description": "",
            "description_tooltip": null,
            "layout": "IPY_MODEL_8ec7c8ea87e2433d8e99afa54c9a3fc1",
            "placeholder": "​",
            "style": "IPY_MODEL_728ac563cd8745c39257fbeddd80bd1c",
            "value": " 14979/14979 [00:00&lt;00:00, 139292.48 examples/s]"
          }
        },
        "c737f4014fdb4c8a983123a28c40278f": {
          "model_module": "@jupyter-widgets/base",
          "model_name": "LayoutModel",
          "model_module_version": "1.2.0",
          "state": {
            "_model_module": "@jupyter-widgets/base",
            "_model_module_version": "1.2.0",
            "_model_name": "LayoutModel",
            "_view_count": null,
            "_view_module": "@jupyter-widgets/base",
            "_view_module_version": "1.2.0",
            "_view_name": "LayoutView",
            "align_content": null,
            "align_items": null,
            "align_self": null,
            "border": null,
            "bottom": null,
            "display": null,
            "flex": null,
            "flex_flow": null,
            "grid_area": null,
            "grid_auto_columns": null,
            "grid_auto_flow": null,
            "grid_auto_rows": null,
            "grid_column": null,
            "grid_gap": null,
            "grid_row": null,
            "grid_template_areas": null,
            "grid_template_columns": null,
            "grid_template_rows": null,
            "height": null,
            "justify_content": null,
            "justify_items": null,
            "left": null,
            "margin": null,
            "max_height": null,
            "max_width": null,
            "min_height": null,
            "min_width": null,
            "object_fit": null,
            "object_position": null,
            "order": null,
            "overflow": null,
            "overflow_x": null,
            "overflow_y": null,
            "padding": null,
            "right": null,
            "top": null,
            "visibility": null,
            "width": null
          }
        },
        "3c9f06b6b94f458da4295ba9ea8c06b2": {
          "model_module": "@jupyter-widgets/base",
          "model_name": "LayoutModel",
          "model_module_version": "1.2.0",
          "state": {
            "_model_module": "@jupyter-widgets/base",
            "_model_module_version": "1.2.0",
            "_model_name": "LayoutModel",
            "_view_count": null,
            "_view_module": "@jupyter-widgets/base",
            "_view_module_version": "1.2.0",
            "_view_name": "LayoutView",
            "align_content": null,
            "align_items": null,
            "align_self": null,
            "border": null,
            "bottom": null,
            "display": null,
            "flex": null,
            "flex_flow": null,
            "grid_area": null,
            "grid_auto_columns": null,
            "grid_auto_flow": null,
            "grid_auto_rows": null,
            "grid_column": null,
            "grid_gap": null,
            "grid_row": null,
            "grid_template_areas": null,
            "grid_template_columns": null,
            "grid_template_rows": null,
            "height": null,
            "justify_content": null,
            "justify_items": null,
            "left": null,
            "margin": null,
            "max_height": null,
            "max_width": null,
            "min_height": null,
            "min_width": null,
            "object_fit": null,
            "object_position": null,
            "order": null,
            "overflow": null,
            "overflow_x": null,
            "overflow_y": null,
            "padding": null,
            "right": null,
            "top": null,
            "visibility": null,
            "width": null
          }
        },
        "2b1f4bd12edd407e829ea1df8290bec1": {
          "model_module": "@jupyter-widgets/controls",
          "model_name": "DescriptionStyleModel",
          "model_module_version": "1.5.0",
          "state": {
            "_model_module": "@jupyter-widgets/controls",
            "_model_module_version": "1.5.0",
            "_model_name": "DescriptionStyleModel",
            "_view_count": null,
            "_view_module": "@jupyter-widgets/base",
            "_view_module_version": "1.2.0",
            "_view_name": "StyleView",
            "description_width": ""
          }
        },
        "934628344f3244dea8a7e36ac643d0de": {
          "model_module": "@jupyter-widgets/base",
          "model_name": "LayoutModel",
          "model_module_version": "1.2.0",
          "state": {
            "_model_module": "@jupyter-widgets/base",
            "_model_module_version": "1.2.0",
            "_model_name": "LayoutModel",
            "_view_count": null,
            "_view_module": "@jupyter-widgets/base",
            "_view_module_version": "1.2.0",
            "_view_name": "LayoutView",
            "align_content": null,
            "align_items": null,
            "align_self": null,
            "border": null,
            "bottom": null,
            "display": null,
            "flex": null,
            "flex_flow": null,
            "grid_area": null,
            "grid_auto_columns": null,
            "grid_auto_flow": null,
            "grid_auto_rows": null,
            "grid_column": null,
            "grid_gap": null,
            "grid_row": null,
            "grid_template_areas": null,
            "grid_template_columns": null,
            "grid_template_rows": null,
            "height": null,
            "justify_content": null,
            "justify_items": null,
            "left": null,
            "margin": null,
            "max_height": null,
            "max_width": null,
            "min_height": null,
            "min_width": null,
            "object_fit": null,
            "object_position": null,
            "order": null,
            "overflow": null,
            "overflow_x": null,
            "overflow_y": null,
            "padding": null,
            "right": null,
            "top": null,
            "visibility": null,
            "width": null
          }
        },
        "6570387b679d4e2fa3933e5905262625": {
          "model_module": "@jupyter-widgets/controls",
          "model_name": "ProgressStyleModel",
          "model_module_version": "1.5.0",
          "state": {
            "_model_module": "@jupyter-widgets/controls",
            "_model_module_version": "1.5.0",
            "_model_name": "ProgressStyleModel",
            "_view_count": null,
            "_view_module": "@jupyter-widgets/base",
            "_view_module_version": "1.2.0",
            "_view_name": "StyleView",
            "bar_color": null,
            "description_width": ""
          }
        },
        "8ec7c8ea87e2433d8e99afa54c9a3fc1": {
          "model_module": "@jupyter-widgets/base",
          "model_name": "LayoutModel",
          "model_module_version": "1.2.0",
          "state": {
            "_model_module": "@jupyter-widgets/base",
            "_model_module_version": "1.2.0",
            "_model_name": "LayoutModel",
            "_view_count": null,
            "_view_module": "@jupyter-widgets/base",
            "_view_module_version": "1.2.0",
            "_view_name": "LayoutView",
            "align_content": null,
            "align_items": null,
            "align_self": null,
            "border": null,
            "bottom": null,
            "display": null,
            "flex": null,
            "flex_flow": null,
            "grid_area": null,
            "grid_auto_columns": null,
            "grid_auto_flow": null,
            "grid_auto_rows": null,
            "grid_column": null,
            "grid_gap": null,
            "grid_row": null,
            "grid_template_areas": null,
            "grid_template_columns": null,
            "grid_template_rows": null,
            "height": null,
            "justify_content": null,
            "justify_items": null,
            "left": null,
            "margin": null,
            "max_height": null,
            "max_width": null,
            "min_height": null,
            "min_width": null,
            "object_fit": null,
            "object_position": null,
            "order": null,
            "overflow": null,
            "overflow_x": null,
            "overflow_y": null,
            "padding": null,
            "right": null,
            "top": null,
            "visibility": null,
            "width": null
          }
        },
        "728ac563cd8745c39257fbeddd80bd1c": {
          "model_module": "@jupyter-widgets/controls",
          "model_name": "DescriptionStyleModel",
          "model_module_version": "1.5.0",
          "state": {
            "_model_module": "@jupyter-widgets/controls",
            "_model_module_version": "1.5.0",
            "_model_name": "DescriptionStyleModel",
            "_view_count": null,
            "_view_module": "@jupyter-widgets/base",
            "_view_module_version": "1.2.0",
            "_view_name": "StyleView",
            "description_width": ""
          }
        },
        "c23783b2f6734c359ca67c6287af3fa1": {
          "model_module": "@jupyter-widgets/controls",
          "model_name": "HBoxModel",
          "model_module_version": "1.5.0",
          "state": {
            "_dom_classes": [],
            "_model_module": "@jupyter-widgets/controls",
            "_model_module_version": "1.5.0",
            "_model_name": "HBoxModel",
            "_view_count": null,
            "_view_module": "@jupyter-widgets/controls",
            "_view_module_version": "1.5.0",
            "_view_name": "HBoxView",
            "box_style": "",
            "children": [
              "IPY_MODEL_fd53de195df848798b41a6075afe3947",
              "IPY_MODEL_cc74aa6ddcb44e6e9e8dcfa463be7caa",
              "IPY_MODEL_d3d1f83001714ad0a4428b9e45a44546"
            ],
            "layout": "IPY_MODEL_6ae6978e77ed44d2a27c7dbcee462bd9"
          }
        },
        "fd53de195df848798b41a6075afe3947": {
          "model_module": "@jupyter-widgets/controls",
          "model_name": "HTMLModel",
          "model_module_version": "1.5.0",
          "state": {
            "_dom_classes": [],
            "_model_module": "@jupyter-widgets/controls",
            "_model_module_version": "1.5.0",
            "_model_name": "HTMLModel",
            "_view_count": null,
            "_view_module": "@jupyter-widgets/controls",
            "_view_module_version": "1.5.0",
            "_view_name": "HTMLView",
            "description": "",
            "description_tooltip": null,
            "layout": "IPY_MODEL_663eb08a4ce54a2aab50911a729b1dd2",
            "placeholder": "​",
            "style": "IPY_MODEL_3f76295f76074fd2b2499b9130a6da0f",
            "value": "Generating test split: 100%"
          }
        },
        "cc74aa6ddcb44e6e9e8dcfa463be7caa": {
          "model_module": "@jupyter-widgets/controls",
          "model_name": "FloatProgressModel",
          "model_module_version": "1.5.0",
          "state": {
            "_dom_classes": [],
            "_model_module": "@jupyter-widgets/controls",
            "_model_module_version": "1.5.0",
            "_model_name": "FloatProgressModel",
            "_view_count": null,
            "_view_module": "@jupyter-widgets/controls",
            "_view_module_version": "1.5.0",
            "_view_name": "ProgressView",
            "bar_style": "success",
            "description": "",
            "description_tooltip": null,
            "layout": "IPY_MODEL_9d654ef04dca47d29d17a0ac80a56026",
            "max": 3745,
            "min": 0,
            "orientation": "horizontal",
            "style": "IPY_MODEL_e7b9bdd71b8649e8ad2bca5d2b525f6b",
            "value": 3745
          }
        },
        "d3d1f83001714ad0a4428b9e45a44546": {
          "model_module": "@jupyter-widgets/controls",
          "model_name": "HTMLModel",
          "model_module_version": "1.5.0",
          "state": {
            "_dom_classes": [],
            "_model_module": "@jupyter-widgets/controls",
            "_model_module_version": "1.5.0",
            "_model_name": "HTMLModel",
            "_view_count": null,
            "_view_module": "@jupyter-widgets/controls",
            "_view_module_version": "1.5.0",
            "_view_name": "HTMLView",
            "description": "",
            "description_tooltip": null,
            "layout": "IPY_MODEL_9c31489926714dc1be18017949ff2705",
            "placeholder": "​",
            "style": "IPY_MODEL_8ff63a358e794b39acea39b0eeb5e20e",
            "value": " 3745/3745 [00:00&lt;00:00, 90712.40 examples/s]"
          }
        },
        "6ae6978e77ed44d2a27c7dbcee462bd9": {
          "model_module": "@jupyter-widgets/base",
          "model_name": "LayoutModel",
          "model_module_version": "1.2.0",
          "state": {
            "_model_module": "@jupyter-widgets/base",
            "_model_module_version": "1.2.0",
            "_model_name": "LayoutModel",
            "_view_count": null,
            "_view_module": "@jupyter-widgets/base",
            "_view_module_version": "1.2.0",
            "_view_name": "LayoutView",
            "align_content": null,
            "align_items": null,
            "align_self": null,
            "border": null,
            "bottom": null,
            "display": null,
            "flex": null,
            "flex_flow": null,
            "grid_area": null,
            "grid_auto_columns": null,
            "grid_auto_flow": null,
            "grid_auto_rows": null,
            "grid_column": null,
            "grid_gap": null,
            "grid_row": null,
            "grid_template_areas": null,
            "grid_template_columns": null,
            "grid_template_rows": null,
            "height": null,
            "justify_content": null,
            "justify_items": null,
            "left": null,
            "margin": null,
            "max_height": null,
            "max_width": null,
            "min_height": null,
            "min_width": null,
            "object_fit": null,
            "object_position": null,
            "order": null,
            "overflow": null,
            "overflow_x": null,
            "overflow_y": null,
            "padding": null,
            "right": null,
            "top": null,
            "visibility": null,
            "width": null
          }
        },
        "663eb08a4ce54a2aab50911a729b1dd2": {
          "model_module": "@jupyter-widgets/base",
          "model_name": "LayoutModel",
          "model_module_version": "1.2.0",
          "state": {
            "_model_module": "@jupyter-widgets/base",
            "_model_module_version": "1.2.0",
            "_model_name": "LayoutModel",
            "_view_count": null,
            "_view_module": "@jupyter-widgets/base",
            "_view_module_version": "1.2.0",
            "_view_name": "LayoutView",
            "align_content": null,
            "align_items": null,
            "align_self": null,
            "border": null,
            "bottom": null,
            "display": null,
            "flex": null,
            "flex_flow": null,
            "grid_area": null,
            "grid_auto_columns": null,
            "grid_auto_flow": null,
            "grid_auto_rows": null,
            "grid_column": null,
            "grid_gap": null,
            "grid_row": null,
            "grid_template_areas": null,
            "grid_template_columns": null,
            "grid_template_rows": null,
            "height": null,
            "justify_content": null,
            "justify_items": null,
            "left": null,
            "margin": null,
            "max_height": null,
            "max_width": null,
            "min_height": null,
            "min_width": null,
            "object_fit": null,
            "object_position": null,
            "order": null,
            "overflow": null,
            "overflow_x": null,
            "overflow_y": null,
            "padding": null,
            "right": null,
            "top": null,
            "visibility": null,
            "width": null
          }
        },
        "3f76295f76074fd2b2499b9130a6da0f": {
          "model_module": "@jupyter-widgets/controls",
          "model_name": "DescriptionStyleModel",
          "model_module_version": "1.5.0",
          "state": {
            "_model_module": "@jupyter-widgets/controls",
            "_model_module_version": "1.5.0",
            "_model_name": "DescriptionStyleModel",
            "_view_count": null,
            "_view_module": "@jupyter-widgets/base",
            "_view_module_version": "1.2.0",
            "_view_name": "StyleView",
            "description_width": ""
          }
        },
        "9d654ef04dca47d29d17a0ac80a56026": {
          "model_module": "@jupyter-widgets/base",
          "model_name": "LayoutModel",
          "model_module_version": "1.2.0",
          "state": {
            "_model_module": "@jupyter-widgets/base",
            "_model_module_version": "1.2.0",
            "_model_name": "LayoutModel",
            "_view_count": null,
            "_view_module": "@jupyter-widgets/base",
            "_view_module_version": "1.2.0",
            "_view_name": "LayoutView",
            "align_content": null,
            "align_items": null,
            "align_self": null,
            "border": null,
            "bottom": null,
            "display": null,
            "flex": null,
            "flex_flow": null,
            "grid_area": null,
            "grid_auto_columns": null,
            "grid_auto_flow": null,
            "grid_auto_rows": null,
            "grid_column": null,
            "grid_gap": null,
            "grid_row": null,
            "grid_template_areas": null,
            "grid_template_columns": null,
            "grid_template_rows": null,
            "height": null,
            "justify_content": null,
            "justify_items": null,
            "left": null,
            "margin": null,
            "max_height": null,
            "max_width": null,
            "min_height": null,
            "min_width": null,
            "object_fit": null,
            "object_position": null,
            "order": null,
            "overflow": null,
            "overflow_x": null,
            "overflow_y": null,
            "padding": null,
            "right": null,
            "top": null,
            "visibility": null,
            "width": null
          }
        },
        "e7b9bdd71b8649e8ad2bca5d2b525f6b": {
          "model_module": "@jupyter-widgets/controls",
          "model_name": "ProgressStyleModel",
          "model_module_version": "1.5.0",
          "state": {
            "_model_module": "@jupyter-widgets/controls",
            "_model_module_version": "1.5.0",
            "_model_name": "ProgressStyleModel",
            "_view_count": null,
            "_view_module": "@jupyter-widgets/base",
            "_view_module_version": "1.2.0",
            "_view_name": "StyleView",
            "bar_color": null,
            "description_width": ""
          }
        },
        "9c31489926714dc1be18017949ff2705": {
          "model_module": "@jupyter-widgets/base",
          "model_name": "LayoutModel",
          "model_module_version": "1.2.0",
          "state": {
            "_model_module": "@jupyter-widgets/base",
            "_model_module_version": "1.2.0",
            "_model_name": "LayoutModel",
            "_view_count": null,
            "_view_module": "@jupyter-widgets/base",
            "_view_module_version": "1.2.0",
            "_view_name": "LayoutView",
            "align_content": null,
            "align_items": null,
            "align_self": null,
            "border": null,
            "bottom": null,
            "display": null,
            "flex": null,
            "flex_flow": null,
            "grid_area": null,
            "grid_auto_columns": null,
            "grid_auto_flow": null,
            "grid_auto_rows": null,
            "grid_column": null,
            "grid_gap": null,
            "grid_row": null,
            "grid_template_areas": null,
            "grid_template_columns": null,
            "grid_template_rows": null,
            "height": null,
            "justify_content": null,
            "justify_items": null,
            "left": null,
            "margin": null,
            "max_height": null,
            "max_width": null,
            "min_height": null,
            "min_width": null,
            "object_fit": null,
            "object_position": null,
            "order": null,
            "overflow": null,
            "overflow_x": null,
            "overflow_y": null,
            "padding": null,
            "right": null,
            "top": null,
            "visibility": null,
            "width": null
          }
        },
        "8ff63a358e794b39acea39b0eeb5e20e": {
          "model_module": "@jupyter-widgets/controls",
          "model_name": "DescriptionStyleModel",
          "model_module_version": "1.5.0",
          "state": {
            "_model_module": "@jupyter-widgets/controls",
            "_model_module_version": "1.5.0",
            "_model_name": "DescriptionStyleModel",
            "_view_count": null,
            "_view_module": "@jupyter-widgets/base",
            "_view_module_version": "1.2.0",
            "_view_name": "StyleView",
            "description_width": ""
          }
        }
      }
    }
  },
  "cells": [
    {
      "cell_type": "markdown",
      "source": [
        "## **Advanced Machine Learning-- Assignment-01**\n",
        "---\n",
        "### **Name:-Arnab Bera       , Roll No:- MDS202409**\n",
        "---\n",
        "### **Name:-Biswajit Kala   ,    Roll No:-MDS202412**\n",
        "---"
      ],
      "metadata": {
        "id": "emfuSlolJCkb"
      }
    },
    {
      "cell_type": "markdown",
      "source": [
        "### **Task-1:Classifier for notMNIST: This dataset contains images of alphabets A to J in various fonts. Your task is to build a classifier for this dataset using CNN.**\n",
        "- **Classify each image into one of 10 classes**\n",
        "- **Show the effect of permuting the image pixels on CNN classifiers**\n"
      ],
      "metadata": {
        "id": "9xVvHTY3N3fZ"
      }
    },
    {
      "cell_type": "code",
      "execution_count": 1,
      "metadata": {
        "id": "8OsL1jurNtpN"
      },
      "outputs": [],
      "source": [
        "#### Import all necessary libraries\n",
        "import os\n",
        "import torch\n",
        "import torch.nn as nn\n",
        "import torch.optim as optim\n",
        "from torch.utils.data import Dataset, DataLoader\n",
        "from torchvision import transforms,datasets,models\n",
        "import numpy as np\n",
        "import matplotlib.pyplot as plt\n",
        "from sklearn.metrics import accuracy_score, classification_report\n",
        "import itertools\n",
        "import torch.nn.functional as F\n",
        "from collections import defaultdict\n",
        "from datasets import load_dataset\n",
        "import random\n",
        "torch.manual_seed(42)\n",
        "np.random.seed(42)\n",
        "random.seed(423)"
      ]
    },
    {
      "cell_type": "code",
      "source": [
        "#### The 'device' will be used for training our model\n",
        "device = torch.device(\"cuda:0\" if torch.cuda.is_available() else \"cpu\")\n",
        "print(device)"
      ],
      "metadata": {
        "colab": {
          "base_uri": "https://localhost:8080/"
        },
        "id": "uGKhFScqN8we",
        "outputId": "16fdaf5c-ca5c-4fd1-d388-359334d0a884"
      },
      "execution_count": 2,
      "outputs": [
        {
          "output_type": "stream",
          "name": "stdout",
          "text": [
            "cuda:0\n"
          ]
        }
      ]
    },
    {
      "cell_type": "code",
      "source": [
        "\n",
        "#### Step 1: Load the notMNIST dataset\n",
        "print(\"LOADING MNIST DATASET...........\")\n",
        "ds=load_dataset(\"anubhavmaity/notMNIST\")\n",
        "print(f\"DATASET STRUCTUTRE:-{ds}\")\n",
        "print(f\"NUMBER OF TRAINING SAMPLES:{len(ds['train'])}\")\n",
        "print(f\"NUMBER OF TESTING SAMPLES:{len(ds['test'])}\")\n"
      ],
      "metadata": {
        "colab": {
          "base_uri": "https://localhost:8080/",
          "height": 527,
          "referenced_widgets": [
            "b62cca89f3174575b3cb878c545d13c1",
            "c12f8c065ecd4c7899822e877394e1f1",
            "cdcc58a2e9124da7acbc64bfa9af4eaa",
            "7c0ac486d6644c94b72955a903e27768",
            "a017c25464094ff2a1ccf5588f8b04fc",
            "2e3023bb667d4829bbc881ae4074b923",
            "c269c36303ed446a85ca5bd5e5aa46fc",
            "1bd81fd3b3714dc395b51932059215a1",
            "090ab3dc3e5d4ed5ac42b8a55028555f",
            "a0784e73b4a741edaae82513a4f5a413",
            "9af28a1dfb8248faa0108cedc839aceb",
            "a18a132aa12f49458da89f90a8fbbe28",
            "f33c2e1793594d6f9399da67400dcd31",
            "034a4271936941f5861ec280d11f4004",
            "1afeb4238483403bbfad751e837c2e9e",
            "0432875d9b3343cca431d27eb9cc1302",
            "62785e8d76984cf6a59e308c11a8a549",
            "da583ba031a341d6921aed1c8e702da0",
            "bede347717904144bcf9f6fa9dfdbf73",
            "eefc3a6690f94c5fb4606d4b38f64ef4",
            "e624f1a5b3bc412ab25315822940a42f",
            "ea251ca96d174ef5bb46ddd98a6e34f7",
            "0f33781710e441639124bd6ea359fddf",
            "bbf6012ce9bc4325a5bfd744fbf2f01d",
            "ae7bbacbb44344aba8af17745232943a",
            "f238b34a176e4ab997718c5b9e2f6877",
            "cd77ac7ea2134e22a57864591b563a05",
            "26e3968a16774ed381cb2df280e474a8",
            "38161282933b44bcaae552474b6da55c",
            "7fe263199754491fb8c68bfd3a7bb5a7",
            "af868fb6034e40a6bf44b6d67e8675f6",
            "47be9ccc5081418585f3c8aa498ae269",
            "5bbb406b5c26441b8197371994ba49b6",
            "44d2387212d544f38d6fff0f7a17bb4f",
            "6abdec33ec624772906be5eb13a44257",
            "0cab3720d8564117898202e5bcd3bf41",
            "37b10d7a3d744e22a1231f6a3d01117b",
            "c737f4014fdb4c8a983123a28c40278f",
            "3c9f06b6b94f458da4295ba9ea8c06b2",
            "2b1f4bd12edd407e829ea1df8290bec1",
            "934628344f3244dea8a7e36ac643d0de",
            "6570387b679d4e2fa3933e5905262625",
            "8ec7c8ea87e2433d8e99afa54c9a3fc1",
            "728ac563cd8745c39257fbeddd80bd1c",
            "c23783b2f6734c359ca67c6287af3fa1",
            "fd53de195df848798b41a6075afe3947",
            "cc74aa6ddcb44e6e9e8dcfa463be7caa",
            "d3d1f83001714ad0a4428b9e45a44546",
            "6ae6978e77ed44d2a27c7dbcee462bd9",
            "663eb08a4ce54a2aab50911a729b1dd2",
            "3f76295f76074fd2b2499b9130a6da0f",
            "9d654ef04dca47d29d17a0ac80a56026",
            "e7b9bdd71b8649e8ad2bca5d2b525f6b",
            "9c31489926714dc1be18017949ff2705",
            "8ff63a358e794b39acea39b0eeb5e20e"
          ]
        },
        "id": "wBmT2WzIOBJT",
        "outputId": "b7a7c7e3-8135-45d2-a13a-6c7aa850d6a2"
      },
      "execution_count": 3,
      "outputs": [
        {
          "output_type": "stream",
          "name": "stdout",
          "text": [
            "LOADING MNIST DATASET...........\n"
          ]
        },
        {
          "output_type": "stream",
          "name": "stderr",
          "text": [
            "/usr/local/lib/python3.12/dist-packages/huggingface_hub/utils/_auth.py:94: UserWarning: \n",
            "The secret `HF_TOKEN` does not exist in your Colab secrets.\n",
            "To authenticate with the Hugging Face Hub, create a token in your settings tab (https://huggingface.co/settings/tokens), set it as secret in your Google Colab and restart your session.\n",
            "You will be able to reuse this secret in all of your notebooks.\n",
            "Please note that authentication is recommended but still optional to access public models or datasets.\n",
            "  warnings.warn(\n"
          ]
        },
        {
          "output_type": "display_data",
          "data": {
            "text/plain": [
              "README.md: 0.00B [00:00, ?B/s]"
            ],
            "application/vnd.jupyter.widget-view+json": {
              "version_major": 2,
              "version_minor": 0,
              "model_id": "b62cca89f3174575b3cb878c545d13c1"
            }
          },
          "metadata": {}
        },
        {
          "output_type": "display_data",
          "data": {
            "text/plain": [
              "data/train-00000-of-00001-66ec62000fa1b4(…):   0%|          | 0.00/7.10M [00:00<?, ?B/s]"
            ],
            "application/vnd.jupyter.widget-view+json": {
              "version_major": 2,
              "version_minor": 0,
              "model_id": "a18a132aa12f49458da89f90a8fbbe28"
            }
          },
          "metadata": {}
        },
        {
          "output_type": "display_data",
          "data": {
            "text/plain": [
              "data/test-00000-of-00001-1136ef192260594(…):   0%|          | 0.00/1.77M [00:00<?, ?B/s]"
            ],
            "application/vnd.jupyter.widget-view+json": {
              "version_major": 2,
              "version_minor": 0,
              "model_id": "0f33781710e441639124bd6ea359fddf"
            }
          },
          "metadata": {}
        },
        {
          "output_type": "display_data",
          "data": {
            "text/plain": [
              "Generating train split:   0%|          | 0/14979 [00:00<?, ? examples/s]"
            ],
            "application/vnd.jupyter.widget-view+json": {
              "version_major": 2,
              "version_minor": 0,
              "model_id": "44d2387212d544f38d6fff0f7a17bb4f"
            }
          },
          "metadata": {}
        },
        {
          "output_type": "display_data",
          "data": {
            "text/plain": [
              "Generating test split:   0%|          | 0/3745 [00:00<?, ? examples/s]"
            ],
            "application/vnd.jupyter.widget-view+json": {
              "version_major": 2,
              "version_minor": 0,
              "model_id": "c23783b2f6734c359ca67c6287af3fa1"
            }
          },
          "metadata": {}
        },
        {
          "output_type": "stream",
          "name": "stdout",
          "text": [
            "DATASET STRUCTUTRE:-DatasetDict({\n",
            "    train: Dataset({\n",
            "        features: ['image', 'label'],\n",
            "        num_rows: 14979\n",
            "    })\n",
            "    test: Dataset({\n",
            "        features: ['image', 'label'],\n",
            "        num_rows: 3745\n",
            "    })\n",
            "})\n",
            "NUMBER OF TRAINING SAMPLES:14979\n",
            "NUMBER OF TESTING SAMPLES:3745\n"
          ]
        }
      ]
    },
    {
      "cell_type": "code",
      "source": [
        "smaple_image=ds['train'][0]['image']\n",
        "print(\"-\"*50)\n",
        "print(\"Type:-\",type(smaple_image))\n",
        "print(\"-\"*50)\n",
        "print(\"SIZE (Widht x Height):-\",smaple_image.size)\n",
        "print(\"-\"*50)\n",
        "print(\"Channels:-\",smaple_image.mode)\n",
        "print(\"-\"*50)\n",
        "\n",
        "### So, all the image in gray scale\n"
      ],
      "metadata": {
        "colab": {
          "base_uri": "https://localhost:8080/"
        },
        "id": "EzWFeyiXuB2k",
        "outputId": "45577874-1ec8-4d69-8f6f-7766b1bac80f"
      },
      "execution_count": 4,
      "outputs": [
        {
          "output_type": "stream",
          "name": "stdout",
          "text": [
            "--------------------------------------------------\n",
            "Type:- <class 'PIL.PngImagePlugin.PngImageFile'>\n",
            "--------------------------------------------------\n",
            "SIZE (Widht x Height):- (28, 28)\n",
            "--------------------------------------------------\n",
            "Channels:- L\n",
            "--------------------------------------------------\n"
          ]
        }
      ]
    },
    {
      "cell_type": "code",
      "source": [
        "####  UNIQUE LABEL PRESENT IN THE DATASET\n",
        "unique_labels=set(ds['train']['label'])\n",
        "num_classes=len(unique_labels)\n",
        "print(f\"Number of classes in the dataset:{num_classes}\")\n",
        "print(f\"Classes Are-:{sorted(unique_labels)}\")\n",
        "#### notMNIST dataset  has letters A-J {A:0,B:1,C:2,D:3,E:4,F:5,G:6,H:7,I:8,J:9}\n",
        "class_names=['A', 'B', 'C', 'D', 'E', 'F', 'G', 'H', 'I', 'J']\n"
      ],
      "metadata": {
        "colab": {
          "base_uri": "https://localhost:8080/"
        },
        "id": "XGNboSI0OEQM",
        "outputId": "00429053-fff2-409a-da5c-c8cd5ea1a012"
      },
      "execution_count": 5,
      "outputs": [
        {
          "output_type": "stream",
          "name": "stdout",
          "text": [
            "Number of classes in the dataset:10\n",
            "Classes Are-:[0, 1, 2, 3, 4, 5, 6, 7, 8, 9]\n"
          ]
        }
      ]
    },
    {
      "cell_type": "code",
      "source": [
        "INPUT_SIZE=28*28*1\n",
        "OUTPUT_SIZE=10"
      ],
      "metadata": {
        "id": "OJR_rHLyu_ns"
      },
      "execution_count": 6,
      "outputs": []
    },
    {
      "cell_type": "code",
      "source": [
        "#### Step 2: Visualize some dataset samples\n",
        "def visualize_samples(dataset, num_samples=10):\n",
        "    #### Visualize the random samples from the dataset\n",
        "    fig,axes=plt.subplots(2, 5, figsize=(8, 6))\n",
        "    axes=axes.ravel()\n",
        "\n",
        "    for i in range(num_samples):\n",
        "        ####Get random sample using random function\n",
        "        idx=random.randint(0, len(dataset) - 1)\n",
        "        sample=dataset[idx]\n",
        "        image=sample['image']\n",
        "        label=sample['label']\n",
        "\n",
        "        #### Display image\n",
        "        axes[i].imshow(image,cmap='gray')\n",
        "        axes[i].set_title(f'Class:{class_names[label]}')\n",
        "        axes[i].axis('off')\n",
        "\n",
        "    plt.tight_layout()\n",
        "    plt.show()\n",
        "\n",
        "print(\"\\nVisualizing training samples\")\n",
        "visualize_samples(ds['train'])\n"
      ],
      "metadata": {
        "colab": {
          "base_uri": "https://localhost:8080/",
          "height": 488
        },
        "id": "56rrPZo9OF7h",
        "outputId": "b85b050e-8ab6-43a6-8c77-c3ccc58c7acb"
      },
      "execution_count": 7,
      "outputs": [
        {
          "output_type": "stream",
          "name": "stdout",
          "text": [
            "\n",
            "Visualizing training samples\n"
          ]
        },
        {
          "output_type": "display_data",
          "data": {
            "text/plain": [
              "<Figure size 800x600 with 10 Axes>"
            ],
            "image/png": "[encoded data removed]"
          },
          "metadata": {}
        }
      ]
    },
    {
      "cell_type": "code",
      "source": [
        "#### Step 3: Custom Dataset class for notMNIST\n",
        "class ImageDataset(Dataset):\n",
        "    def __init__(self,dataset,transform=None):\n",
        "        self.dataset = dataset\n",
        "        self.transform = transform\n",
        "\n",
        "    def __len__(self):\n",
        "        return len(self.dataset)\n",
        "\n",
        "    def __getitem__(self, index):\n",
        "        sample=self.dataset[index]\n",
        "        image=sample['image']\n",
        "        label=sample['label']\n",
        "        #### Apply transformations on the dataset\n",
        "        if self.transform:\n",
        "            image=self.transform(image)\n",
        "        return image, label"
      ],
      "metadata": {
        "id": "DR16bjIIOIGA"
      },
      "execution_count": 8,
      "outputs": []
    },
    {
      "cell_type": "code",
      "source": [
        "#### Step 4: Data transformation functions\n",
        "def Transform_data(image_size=28):\n",
        "\n",
        "    train_transform = transforms.Compose([\n",
        "            transforms.Resize((image_size, image_size)),\n",
        "            transforms.ToTensor(),\n",
        "            transforms.Normalize(mean=[0.5], std=[0.5])\n",
        "        ])\n",
        "\n",
        "    val_transform=transforms.Compose([\n",
        "        transforms.Resize((image_size,image_size)),\n",
        "        transforms.ToTensor(),\n",
        "        transforms.Normalize(mean=[0.5],std=[0.5])\n",
        "    ])\n",
        "\n",
        "    return train_transform, val_transform\n"
      ],
      "metadata": {
        "id": "SBjSIllMOJ1Q"
      },
      "execution_count": 9,
      "outputs": []
    },
    {
      "cell_type": "code",
      "source": [
        "\n",
        "def load_the_data(dataset,batch_size,image_size):\n",
        "    \"\"\"Load and prepare data with proper transforms\"\"\"\n",
        "    ### Load the data set and prepare data with transofrms\n",
        "    #### Transform the dataset\n",
        "    train_tfrm,val_tfrm=Transform_data(image_size)\n",
        "\n",
        "    #### Training Data\n",
        "    train_data = ImageDataset(dataset['train'],transform=train_tfrm)\n",
        "    #### Testing data\n",
        "    test_data = ImageDataset(dataset['test'],transform=val_tfrm)\n",
        "\n",
        "    #### Data Loaders\n",
        "    train_load=DataLoader(\n",
        "        train_data,\n",
        "        batch_size=batch_size,\n",
        "        shuffle=True,\n",
        "        num_workers=2,\n",
        "\n",
        "    )\n",
        "    test_load=DataLoader(\n",
        "        test_data,\n",
        "        batch_size=batch_size,\n",
        "        shuffle=False,\n",
        "\n",
        "    )\n",
        "\n",
        "    return train_load, test_load\n",
        "train_loader,test_loader=load_the_data(ds,batch_size=64,image_size=28)"
      ],
      "metadata": {
        "id": "_bWfHa_5OLYM"
      },
      "execution_count": 10,
      "outputs": []
    },
    {
      "cell_type": "code",
      "source": [
        "### function to count number of parameters\n",
        "def get_n_params(model):\n",
        "    np=0\n",
        "    for p in list(model.parameters()):\n",
        "        np += p.nelement()\n",
        "    return np\n",
        "acc_store=[]\n",
        "def train_model(epoch,model):\n",
        "  model.train()\n",
        "  for b_idx,(data,target) in enumerate(train_loader):\n",
        "    ## send to device\n",
        "    data,target=data.to(device),target.to(device)\n",
        "\n",
        "    optimizer.zero_grad()\n",
        "    output=model(data)\n",
        "    loss=F.nll_loss(output,target)\n",
        "    loss.backward()\n",
        "    optimizer.step()\n",
        "\n",
        "    if b_idx % 100==0:\n",
        "       print('Train Epoch: {} [{}/{} ({:.0f}%)]\\tLoss: {:.6f}'.format(\n",
        "                epoch, b_idx * len(data), len(train_loader.dataset),\n",
        "                100. * b_idx / len(train_loader), loss.item()))\n",
        "def test_model(model):\n",
        "  model.eval()\n",
        "  test_loss=0\n",
        "  correct=0\n",
        "  for data,target in test_loader:\n",
        "    ### Data sent to device\n",
        "    data,target=data.to(device),target.to(device)\n",
        "    output=model(data)\n",
        "    test_loss += F.nll_loss(output,target,reduction='sum').item()\n",
        "    pred = output.data.max(1, keepdim=True)[1]\n",
        "\n",
        "    correct += pred.eq(target.data.view_as(pred)).cpu().sum()\n",
        "  test_loss /= len(test_loader.dataset)\n",
        "  accuracy = 100. * correct / len(test_loader.dataset)\n",
        "  acc_store.append(accuracy)\n",
        "  print('\\nTest set: Average loss: {:.4f}, Accuracy: {}/{} ({:.0f}%)\\n'.format(\n",
        "    test_loss, correct, len(test_loader.dataset),\n",
        "    accuracy))\n",
        "\n"
      ],
      "metadata": {
        "id": "ZAZmpddnONQx"
      },
      "execution_count": 11,
      "outputs": []
    },
    {
      "cell_type": "code",
      "source": [],
      "metadata": {
        "id": "7SCiopKnzGSI"
      },
      "execution_count": 74,
      "outputs": []
    },
    {
      "cell_type": "code",
      "source": [
        "class Flatten(nn.Module):\n",
        "    def forward(self, x):\n",
        "      return x.view(x.size(0), -1)\n",
        "\n",
        "class CNN(nn.Module):\n",
        "    def __init__(self, input_size, output_size):\n",
        "        super(CNN, self).__init__()\n",
        "        self.input_size = input_size\n",
        "        self.output_size = output_size\n",
        "        self.C = 64\n",
        "        self.network = nn.Sequential(\n",
        "                # Layer 0\n",
        "                nn.Conv2d(1, self.C, kernel_size=3, stride=1,\n",
        "                          padding=1, bias=True),\n",
        "                nn.BatchNorm2d(self.C),\n",
        "                nn.ReLU(),\n",
        "\n",
        "                # Layer 1\n",
        "                nn.Conv2d(self.C, self.C*2, kernel_size=3,\n",
        "                          stride=1, padding=1, bias=True),\n",
        "                nn.BatchNorm2d(self.C*2),\n",
        "                nn.ReLU(),\n",
        "                nn.MaxPool2d(2),\n",
        "\n",
        "                # Layer 2\n",
        "                nn.Conv2d(self.C*2, self.C*4, kernel_size=3,\n",
        "                          stride=1, padding=1, bias=True),\n",
        "                nn.BatchNorm2d(self.C*4),\n",
        "                nn.ReLU(),\n",
        "                nn.MaxPool2d(2),\n",
        "\n",
        "                # Layer 3\n",
        "                nn.Conv2d(self.C*4, self.C*8, kernel_size=3,\n",
        "                          stride=1, padding=1, bias=True),\n",
        "                nn.BatchNorm2d(self.C*8),\n",
        "                nn.ReLU(),\n",
        "                nn.MaxPool2d(2),\n",
        "\n",
        "                # Layer 4\n",
        "                nn.AdaptiveAvgPool2d(1),\n",
        "                Flatten(),\n",
        "                nn.Linear(self.C*8, output_size, bias=True),\n",
        "                nn.LogSoftmax(dim=1)\n",
        "            )\n",
        "\n",
        "    def forward(self, x):\n",
        "        return self.network(x)"
      ],
      "metadata": {
        "id": "6A_njkI7OOxc"
      },
      "execution_count": 12,
      "outputs": []
    },
    {
      "cell_type": "code",
      "source": [
        "print(\"Training on \", device)\n",
        "model_cnn = CNN(INPUT_SIZE, OUTPUT_SIZE).to(device)\n",
        "optimizer = optim.SGD(model_cnn.parameters(), lr=0.01, momentum=0.5)\n",
        "print('Number of parameters: {}'.format(get_n_params(model_cnn)))\n",
        "model_cnn2=CNN(INPUT_SIZE,OUTPUT_SIZE).to(device)\n",
        "for epoch in range(0, 20):\n",
        "    train_model(epoch, model_cnn)\n",
        "    test_model(model_cnn)"
      ],
      "metadata": {
        "colab": {
          "base_uri": "https://localhost:8080/"
        },
        "id": "qa9JfenkOQjK",
        "outputId": "13f5246f-ff7c-4058-d977-155068867a41"
      },
      "execution_count": 13,
      "outputs": [
        {
          "output_type": "stream",
          "name": "stdout",
          "text": [
            "Training on  cuda:0\n",
            "Number of parameters: 1556874\n",
            "Train Epoch: 0 [0/14979 (0%)]\tLoss: 2.389021\n",
            "Train Epoch: 0 [6400/14979 (43%)]\tLoss: 0.570703\n",
            "Train Epoch: 0 [12800/14979 (85%)]\tLoss: 0.496585\n",
            "\n",
            "Test set: Average loss: 0.6377, Accuracy: 3059/3745 (82%)\n",
            "\n",
            "Train Epoch: 1 [0/14979 (0%)]\tLoss: 0.689705\n",
            "Train Epoch: 1 [6400/14979 (43%)]\tLoss: 0.377715\n",
            "Train Epoch: 1 [12800/14979 (85%)]\tLoss: 0.336356\n",
            "\n",
            "Test set: Average loss: 0.3871, Accuracy: 3337/3745 (89%)\n",
            "\n",
            "Train Epoch: 2 [0/14979 (0%)]\tLoss: 0.166453\n",
            "Train Epoch: 2 [6400/14979 (43%)]\tLoss: 0.262644\n",
            "Train Epoch: 2 [12800/14979 (85%)]\tLoss: 0.263064\n",
            "\n",
            "Test set: Average loss: 0.7209, Accuracy: 2981/3745 (80%)\n",
            "\n",
            "Train Epoch: 3 [0/14979 (0%)]\tLoss: 0.461294\n",
            "Train Epoch: 3 [6400/14979 (43%)]\tLoss: 0.234842\n",
            "Train Epoch: 3 [12800/14979 (85%)]\tLoss: 0.193854\n",
            "\n",
            "Test set: Average loss: 0.6599, Accuracy: 2995/3745 (80%)\n",
            "\n",
            "Train Epoch: 4 [0/14979 (0%)]\tLoss: 0.516330\n",
            "Train Epoch: 4 [6400/14979 (43%)]\tLoss: 0.073200\n",
            "Train Epoch: 4 [12800/14979 (85%)]\tLoss: 0.194983\n",
            "\n",
            "Test set: Average loss: 0.7989, Accuracy: 2813/3745 (75%)\n",
            "\n",
            "Train Epoch: 5 [0/14979 (0%)]\tLoss: 0.246024\n",
            "Train Epoch: 5 [6400/14979 (43%)]\tLoss: 0.129144\n",
            "Train Epoch: 5 [12800/14979 (85%)]\tLoss: 0.060802\n",
            "\n",
            "Test set: Average loss: 0.3027, Accuracy: 3402/3745 (91%)\n",
            "\n",
            "Train Epoch: 6 [0/14979 (0%)]\tLoss: 0.231330\n",
            "Train Epoch: 6 [6400/14979 (43%)]\tLoss: 0.244120\n",
            "Train Epoch: 6 [12800/14979 (85%)]\tLoss: 0.200086\n",
            "\n",
            "Test set: Average loss: 0.2671, Accuracy: 3442/3745 (92%)\n",
            "\n",
            "Train Epoch: 7 [0/14979 (0%)]\tLoss: 0.173133\n",
            "Train Epoch: 7 [6400/14979 (43%)]\tLoss: 0.117684\n",
            "Train Epoch: 7 [12800/14979 (85%)]\tLoss: 0.060400\n",
            "\n",
            "Test set: Average loss: 0.2220, Accuracy: 3491/3745 (93%)\n",
            "\n",
            "Train Epoch: 8 [0/14979 (0%)]\tLoss: 0.176981\n",
            "Train Epoch: 8 [6400/14979 (43%)]\tLoss: 0.084623\n",
            "Train Epoch: 8 [12800/14979 (85%)]\tLoss: 0.134917\n",
            "\n",
            "Test set: Average loss: 9.2363, Accuracy: 528/3745 (14%)\n",
            "\n",
            "Train Epoch: 9 [0/14979 (0%)]\tLoss: 0.970807\n",
            "Train Epoch: 9 [6400/14979 (43%)]\tLoss: 0.059397\n",
            "Train Epoch: 9 [12800/14979 (85%)]\tLoss: 0.111195\n",
            "\n",
            "Test set: Average loss: 0.9164, Accuracy: 2919/3745 (78%)\n",
            "\n",
            "Train Epoch: 10 [0/14979 (0%)]\tLoss: 0.399289\n",
            "Train Epoch: 10 [6400/14979 (43%)]\tLoss: 0.096437\n",
            "Train Epoch: 10 [12800/14979 (85%)]\tLoss: 0.183662\n",
            "\n",
            "Test set: Average loss: 1.0344, Accuracy: 2688/3745 (72%)\n",
            "\n",
            "Train Epoch: 11 [0/14979 (0%)]\tLoss: 0.348267\n",
            "Train Epoch: 11 [6400/14979 (43%)]\tLoss: 0.091099\n",
            "Train Epoch: 11 [12800/14979 (85%)]\tLoss: 0.092273\n",
            "\n",
            "Test set: Average loss: 0.1967, Accuracy: 3511/3745 (94%)\n",
            "\n",
            "Train Epoch: 12 [0/14979 (0%)]\tLoss: 0.059733\n",
            "Train Epoch: 12 [6400/14979 (43%)]\tLoss: 0.118717\n",
            "Train Epoch: 12 [12800/14979 (85%)]\tLoss: 0.098847\n",
            "\n",
            "Test set: Average loss: 0.3289, Accuracy: 3426/3745 (91%)\n",
            "\n",
            "Train Epoch: 13 [0/14979 (0%)]\tLoss: 0.071616\n",
            "Train Epoch: 13 [6400/14979 (43%)]\tLoss: 0.081262\n",
            "Train Epoch: 13 [12800/14979 (85%)]\tLoss: 0.103937\n",
            "\n",
            "Test set: Average loss: 0.3227, Accuracy: 3404/3745 (91%)\n",
            "\n",
            "Train Epoch: 14 [0/14979 (0%)]\tLoss: 0.199189\n",
            "Train Epoch: 14 [6400/14979 (43%)]\tLoss: 0.035133\n",
            "Train Epoch: 14 [12800/14979 (85%)]\tLoss: 0.043974\n",
            "\n",
            "Test set: Average loss: 0.2203, Accuracy: 3507/3745 (94%)\n",
            "\n",
            "Train Epoch: 15 [0/14979 (0%)]\tLoss: 0.067566\n",
            "Train Epoch: 15 [6400/14979 (43%)]\tLoss: 0.037057\n",
            "Train Epoch: 15 [12800/14979 (85%)]\tLoss: 0.079042\n",
            "\n",
            "Test set: Average loss: 0.1851, Accuracy: 3540/3745 (95%)\n",
            "\n",
            "Train Epoch: 16 [0/14979 (0%)]\tLoss: 0.042141\n",
            "Train Epoch: 16 [6400/14979 (43%)]\tLoss: 0.039916\n",
            "Train Epoch: 16 [12800/14979 (85%)]\tLoss: 0.071847\n",
            "\n",
            "Test set: Average loss: 0.3349, Accuracy: 3416/3745 (91%)\n",
            "\n",
            "Train Epoch: 17 [0/14979 (0%)]\tLoss: 0.029566\n",
            "Train Epoch: 17 [6400/14979 (43%)]\tLoss: 0.041617\n",
            "Train Epoch: 17 [12800/14979 (85%)]\tLoss: 0.018144\n",
            "\n",
            "Test set: Average loss: 0.4039, Accuracy: 3335/3745 (89%)\n",
            "\n",
            "Train Epoch: 18 [0/14979 (0%)]\tLoss: 0.055920\n",
            "Train Epoch: 18 [6400/14979 (43%)]\tLoss: 0.026718\n",
            "Train Epoch: 18 [12800/14979 (85%)]\tLoss: 0.041712\n",
            "\n",
            "Test set: Average loss: 0.2255, Accuracy: 3511/3745 (94%)\n",
            "\n",
            "Train Epoch: 19 [0/14979 (0%)]\tLoss: 0.029063\n",
            "Train Epoch: 19 [6400/14979 (43%)]\tLoss: 0.045418\n",
            "Train Epoch: 19 [12800/14979 (85%)]\tLoss: 0.041129\n",
            "\n",
            "Test set: Average loss: 0.2030, Accuracy: 3516/3745 (94%)\n",
            "\n"
          ]
        }
      ]
    },
    {
      "cell_type": "markdown",
      "source": [
        "\n",
        "\n",
        "---\n",
        "\n"
      ],
      "metadata": {
        "id": "SkKSn-hdOTP5"
      }
    },
    {
      "cell_type": "markdown",
      "source": [
        "#### **Prediction of the test network**"
      ],
      "metadata": {
        "id": "fHmL0wW0OYmB"
      }
    },
    {
      "cell_type": "code",
      "source": [
        "def visualize_prediction(image,pred_prob,real_label):\n",
        "  #### This is the function where we viewing an image and it's predicted class\n",
        "  fig,(ax1,ax2)=plt.subplots(figsize=(6,8),ncols=2)\n",
        "  ax1.imshow(image.cpu().numpy().squeeze(),cmap='gray')\n",
        "  ax1.axis('off')\n",
        "  pred=np.argmax(pred_prob)\n",
        "  ax1.set_title([class_names[real_label],class_names[pred]])\n",
        "\n",
        "  ax2.barh(np.arange(10),pred_prob)\n",
        "  ax2.set_aspect(0.1)\n",
        "  ax2.set_yticks(np.arange(10))\n",
        "  ax2.set_yticklabels(class_names)\n",
        "  ax2.set_title('Prediction Probability')\n",
        "  ax2.set_xlim(0, 1.1)\n",
        "  plt.tight_layout()"
      ],
      "metadata": {
        "id": "JcZe6TVcOUWr"
      },
      "execution_count": 14,
      "outputs": []
    },
    {
      "cell_type": "code",
      "source": [
        "model_cnn.to('cpu')\n",
        "image_batch, label_batch = next(iter(test_loader))\n",
        "\n",
        "with torch.no_grad():\n",
        "    log_pred = model_cnn(image_batch)\n",
        "\n",
        "for i in range(10):\n",
        "    img = image_batch[i]\n",
        "    real_label = label_batch[i].item()\n",
        "    log_probability = log_pred[i]\n",
        "\n",
        "    pred_prob = torch.exp(log_probability).cpu().numpy().squeeze()\n",
        "    visualize_prediction(img, pred_prob, real_label)"
      ],
      "metadata": {
        "colab": {
          "base_uri": "https://localhost:8080/",
          "height": 1000
        },
        "id": "FAdY_5u7Oa-E",
        "outputId": "3fb97d83-fa32-4573-e4a8-5c09952c9dc8"
      },
      "execution_count": 15,
      "outputs": [
        {
          "output_type": "display_data",
          "data": {
            "text/plain": [
              "<Figure size 600x800 with 2 Axes>"
            ],
            "image/png": "[encoded data removed]"
          },
          "metadata": {}
        },
        {
          "output_type": "display_data",
          "data": {
            "text/plain": [
              "<Figure size 600x800 with 2 Axes>"
            ],
            "image/png": "[encoded data removed]"
          },
          "metadata": {}
        },
        {
          "output_type": "display_data",
          "data": {
            "text/plain": [
              "<Figure size 600x800 with 2 Axes>"
            ],
            "image/png": "[encoded data removed]"
          },
          "metadata": {}
        },
        {
          "output_type": "display_data",
          "data": {
            "text/plain": [
              "<Figure size 600x800 with 2 Axes>"
            ],
            "image/png": "[encoded data removed]"
          },
          "metadata": {}
        },
        {
          "output_type": "display_data",
          "data": {
            "text/plain": [
              "<Figure size 600x800 with 2 Axes>"
            ],
            "image/png": "[encoded data removed]"
          },
          "metadata": {}
        },
        {
          "output_type": "display_data",
          "data": {
            "text/plain": [
              "<Figure size 600x800 with 2 Axes>"
            ],
            "image/png": "[encoded data removed]"
          },
          "metadata": {}
        },
        {
          "output_type": "display_data",
          "data": {
            "text/plain": [
              "<Figure size 600x800 with 2 Axes>"
            ],
            "image/png": "[encoded data removed]"
          },
          "metadata": {}
        },
        {
          "output_type": "display_data",
          "data": {
            "text/plain": [
              "<Figure size 600x800 with 2 Axes>"
            ],
            "image/png": "[encoded data removed]"
          },
          "metadata": {}
        },
        {
          "output_type": "display_data",
          "data": {
            "text/plain": [
              "<Figure size 600x800 with 2 Axes>"
            ],
            "image/png": "[encoded data removed]"
          },
          "metadata": {}
        },
        {
          "output_type": "display_data",
          "data": {
            "text/plain": [
              "<Figure size 600x800 with 2 Axes>"
            ],
            "image/png": "[encoded data removed]"
          },
          "metadata": {}
        }
      ]
    },
    {
      "cell_type": "markdown",
      "source": [
        "#### **Visual Information**"
      ],
      "metadata": {
        "id": "tSpB4FgsOchV"
      }
    },
    {
      "cell_type": "code",
      "source": [
        "fixed_perm = torch.randperm(1*28*28)\n",
        "plt.figure(figsize=(6, 6))\n",
        "images, labels = next(iter(train_loader))\n",
        "\n",
        "for i in range(6):\n",
        "    img=images[i]\n",
        "    img_perm=img.view(-1,28*28*1).clone()\n",
        "    img_perm=img_perm[:,fixed_perm]\n",
        "    img_perm=img_perm.view(1,28,28)\n",
        "\n",
        "    target=labels[i]\n",
        "    plt.subplot(3,4,2*i+1)\n",
        "\n",
        "    plt.imshow(img.squeeze(),cmap='gray')\n",
        "    plt.axis('off')\n",
        "    plt.title(class_names[target])\n",
        "\n",
        "    plt.subplot(3,4,2*i+2)\n",
        "    plt.imshow(img_perm.squeeze(),cmap='gray')\n",
        "    plt.axis('off')\n",
        "    plt.title(class_names[target])\n",
        "\n",
        "plt.tight_layout()\n",
        "plt.show()\n"
      ],
      "metadata": {
        "colab": {
          "base_uri": "https://localhost:8080/",
          "height": 568
        },
        "id": "TVIHveazOfjK",
        "outputId": "0f21e0d6-1da3-482e-e1df-39ac98c459c6"
      },
      "execution_count": 16,
      "outputs": [
        {
          "output_type": "display_data",
          "data": {
            "text/plain": [
              "<Figure size 600x600 with 12 Axes>"
            ],
            "image/png": "[encoded data removed]"
          },
          "metadata": {}
        }
      ]
    },
    {
      "cell_type": "code",
      "source": [
        "\n",
        "def permu_train(epoch, model, perm=torch.arange(0, 28*28).long()):\n",
        "    model.train()\n",
        "    for b_idx, (data, label) in enumerate(train_loader):\n",
        "        # Permute pixels\n",
        "        data = data.view(-1, 28*28)[:, perm].view(-1, 1, 28, 28).to(device)\n",
        "        label = label.to(device)\n",
        "\n",
        "        optimizer.zero_grad()\n",
        "        output = model(data)\n",
        "\n",
        "        loss = F.nll_loss(output, label)\n",
        "        loss.backward()\n",
        "        optimizer.step()\n",
        "\n",
        "        if b_idx % 100 == 0:\n",
        "            print('Train Epoch: {} [{}/{} ({:.0f}%)]\\tLoss: {:.6f}'.format(\n",
        "                epoch, b_idx * len(data), len(train_loader.dataset),\n",
        "                100. * b_idx / len(train_loader), loss.item()))\n",
        "\n",
        "def permu_test(model, perm=torch.arange(0, 28*28).long()):\n",
        "    model.eval()\n",
        "    test_loss = 0\n",
        "    correct = 0\n",
        "\n",
        "    with torch.no_grad():\n",
        "        for data, label in test_loader:\n",
        "            data = data.view(-1, 28*28)[:, perm].view(-1, 1, 28, 28).to(device)\n",
        "            label = label.to(device)\n",
        "\n",
        "            output = model(data)\n",
        "            test_loss += F.nll_loss(output, label, reduction='sum').item()\n",
        "            pred = output.argmax(dim=1, keepdim=True)\n",
        "            correct += pred.eq(label.view_as(pred)).sum().item()\n",
        "\n",
        "    test_loss /= len(test_loader.dataset)\n",
        "    accuracy = 100. * correct / len(test_loader.dataset)\n",
        "    print('\\nTest set: Average loss: {:.4f}, Accuracy: {}/{} ({:.0f}%)\\n'.format(\n",
        "        test_loss, correct, len(test_loader.dataset), accuracy))\n",
        "\n",
        "    return accuracy"
      ],
      "metadata": {
        "id": "iYBqqxtmovCN"
      },
      "execution_count": 17,
      "outputs": []
    },
    {
      "cell_type": "code",
      "source": [
        "device = torch.device(\"cuda\" if torch.cuda.is_available() else \"cpu\")\n",
        "print(\"Training On:\", device)\n"
      ],
      "metadata": {
        "colab": {
          "base_uri": "https://localhost:8080/"
        },
        "id": "RvAVPM17ss2v",
        "outputId": "a69bc035-d2eb-4a09-e74e-cf98ed99f6f4"
      },
      "execution_count": 70,
      "outputs": [
        {
          "output_type": "stream",
          "name": "stdout",
          "text": [
            "Training On: cuda\n"
          ]
        }
      ]
    },
    {
      "cell_type": "code",
      "source": [
        "\n",
        "# Initialize optimizer\n",
        "optimizer = optim.SGD(model_cnn2.parameters(), lr=0.01, momentum=0.5)"
      ],
      "metadata": {
        "id": "U0mVKWQB7OU-"
      },
      "execution_count": 18,
      "outputs": []
    },
    {
      "cell_type": "code",
      "source": [
        "#### Train the network\n",
        "print(\"Training On:-\",device)\n",
        "print(\"Numebr of parameters:{}\".format(get_n_params(model_cnn2)))\n",
        "\n",
        "for epoch in range(0,20):\n",
        "  permu_train(epoch,model_cnn2,fixed_perm)\n",
        "  permu_test(model_cnn2,fixed_perm)"
      ],
      "metadata": {
        "colab": {
          "base_uri": "https://localhost:8080/"
        },
        "id": "Qdassz2ApxfD",
        "outputId": "dba217a3-b98a-4775-c236-d994064747ce"
      },
      "execution_count": 19,
      "outputs": [
        {
          "output_type": "stream",
          "name": "stdout",
          "text": [
            "Training On:- cuda:0\n",
            "Numebr of parameters:1556874\n",
            "Train Epoch: 0 [0/14979 (0%)]\tLoss: 2.436226\n",
            "Train Epoch: 0 [6400/14979 (43%)]\tLoss: 0.948790\n",
            "Train Epoch: 0 [12800/14979 (85%)]\tLoss: 0.785940\n",
            "\n",
            "Test set: Average loss: 2.4970, Accuracy: 1310/3745 (35%)\n",
            "\n",
            "Train Epoch: 1 [0/14979 (0%)]\tLoss: 0.970768\n",
            "Train Epoch: 1 [6400/14979 (43%)]\tLoss: 0.368119\n",
            "Train Epoch: 1 [12800/14979 (85%)]\tLoss: 0.450582\n",
            "\n",
            "Test set: Average loss: 0.7409, Accuracy: 2845/3745 (76%)\n",
            "\n",
            "Train Epoch: 2 [0/14979 (0%)]\tLoss: 0.633609\n",
            "Train Epoch: 2 [6400/14979 (43%)]\tLoss: 0.401428\n",
            "Train Epoch: 2 [12800/14979 (85%)]\tLoss: 0.339342\n",
            "\n",
            "Test set: Average loss: 0.6517, Accuracy: 2999/3745 (80%)\n",
            "\n",
            "Train Epoch: 3 [0/14979 (0%)]\tLoss: 0.384337\n",
            "Train Epoch: 3 [6400/14979 (43%)]\tLoss: 0.219028\n",
            "Train Epoch: 3 [12800/14979 (85%)]\tLoss: 0.282121\n",
            "\n",
            "Test set: Average loss: 1.0177, Accuracy: 2691/3745 (72%)\n",
            "\n",
            "Train Epoch: 4 [0/14979 (0%)]\tLoss: 0.328010\n",
            "Train Epoch: 4 [6400/14979 (43%)]\tLoss: 0.313509\n",
            "Train Epoch: 4 [12800/14979 (85%)]\tLoss: 0.158673\n",
            "\n",
            "Test set: Average loss: 0.6757, Accuracy: 3013/3745 (80%)\n",
            "\n",
            "Train Epoch: 5 [0/14979 (0%)]\tLoss: 0.132233\n",
            "Train Epoch: 5 [6400/14979 (43%)]\tLoss: 0.123906\n",
            "Train Epoch: 5 [12800/14979 (85%)]\tLoss: 0.129490\n",
            "\n",
            "Test set: Average loss: 0.8825, Accuracy: 2866/3745 (77%)\n",
            "\n",
            "Train Epoch: 6 [0/14979 (0%)]\tLoss: 0.115322\n",
            "Train Epoch: 6 [6400/14979 (43%)]\tLoss: 0.094549\n",
            "Train Epoch: 6 [12800/14979 (85%)]\tLoss: 0.143343\n",
            "\n",
            "Test set: Average loss: 0.7307, Accuracy: 2947/3745 (79%)\n",
            "\n",
            "Train Epoch: 7 [0/14979 (0%)]\tLoss: 0.048682\n",
            "Train Epoch: 7 [6400/14979 (43%)]\tLoss: 0.094457\n",
            "Train Epoch: 7 [12800/14979 (85%)]\tLoss: 0.062722\n",
            "\n",
            "Test set: Average loss: 0.5594, Accuracy: 3149/3745 (84%)\n",
            "\n",
            "Train Epoch: 8 [0/14979 (0%)]\tLoss: 0.043845\n",
            "Train Epoch: 8 [6400/14979 (43%)]\tLoss: 0.087138\n",
            "Train Epoch: 8 [12800/14979 (85%)]\tLoss: 0.056649\n",
            "\n",
            "Test set: Average loss: 0.7747, Accuracy: 3046/3745 (81%)\n",
            "\n",
            "Train Epoch: 9 [0/14979 (0%)]\tLoss: 0.059134\n",
            "Train Epoch: 9 [6400/14979 (43%)]\tLoss: 0.035960\n",
            "Train Epoch: 9 [12800/14979 (85%)]\tLoss: 0.026937\n",
            "\n",
            "Test set: Average loss: 0.5553, Accuracy: 3189/3745 (85%)\n",
            "\n",
            "Train Epoch: 10 [0/14979 (0%)]\tLoss: 0.070379\n",
            "Train Epoch: 10 [6400/14979 (43%)]\tLoss: 0.025186\n",
            "Train Epoch: 10 [12800/14979 (85%)]\tLoss: 0.053932\n",
            "\n",
            "Test set: Average loss: 0.4848, Accuracy: 3201/3745 (85%)\n",
            "\n",
            "Train Epoch: 11 [0/14979 (0%)]\tLoss: 0.015120\n",
            "Train Epoch: 11 [6400/14979 (43%)]\tLoss: 0.035352\n",
            "Train Epoch: 11 [12800/14979 (85%)]\tLoss: 0.032881\n",
            "\n",
            "Test set: Average loss: 0.3767, Accuracy: 3322/3745 (89%)\n",
            "\n",
            "Train Epoch: 12 [0/14979 (0%)]\tLoss: 0.014355\n",
            "Train Epoch: 12 [6400/14979 (43%)]\tLoss: 0.012970\n",
            "Train Epoch: 12 [12800/14979 (85%)]\tLoss: 0.030136\n",
            "\n",
            "Test set: Average loss: 0.3615, Accuracy: 3319/3745 (89%)\n",
            "\n",
            "Train Epoch: 13 [0/14979 (0%)]\tLoss: 0.014461\n",
            "Train Epoch: 13 [6400/14979 (43%)]\tLoss: 0.017978\n",
            "Train Epoch: 13 [12800/14979 (85%)]\tLoss: 0.020854\n",
            "\n",
            "Test set: Average loss: 1.0017, Accuracy: 2926/3745 (78%)\n",
            "\n",
            "Train Epoch: 14 [0/14979 (0%)]\tLoss: 0.012649\n",
            "Train Epoch: 14 [6400/14979 (43%)]\tLoss: 0.008455\n",
            "Train Epoch: 14 [12800/14979 (85%)]\tLoss: 0.014273\n",
            "\n",
            "Test set: Average loss: 1.5664, Accuracy: 2664/3745 (71%)\n",
            "\n",
            "Train Epoch: 15 [0/14979 (0%)]\tLoss: 0.017140\n",
            "Train Epoch: 15 [6400/14979 (43%)]\tLoss: 0.009319\n",
            "Train Epoch: 15 [12800/14979 (85%)]\tLoss: 0.010917\n",
            "\n",
            "Test set: Average loss: 0.6741, Accuracy: 3093/3745 (83%)\n",
            "\n",
            "Train Epoch: 16 [0/14979 (0%)]\tLoss: 0.008957\n",
            "Train Epoch: 16 [6400/14979 (43%)]\tLoss: 0.014403\n",
            "Train Epoch: 16 [12800/14979 (85%)]\tLoss: 0.011266\n",
            "\n",
            "Test set: Average loss: 0.5945, Accuracy: 3180/3745 (85%)\n",
            "\n",
            "Train Epoch: 17 [0/14979 (0%)]\tLoss: 0.011743\n",
            "Train Epoch: 17 [6400/14979 (43%)]\tLoss: 0.014461\n",
            "Train Epoch: 17 [12800/14979 (85%)]\tLoss: 0.007435\n",
            "\n",
            "Test set: Average loss: 0.5950, Accuracy: 3168/3745 (85%)\n",
            "\n",
            "Train Epoch: 18 [0/14979 (0%)]\tLoss: 0.010577\n",
            "Train Epoch: 18 [6400/14979 (43%)]\tLoss: 0.015155\n",
            "Train Epoch: 18 [12800/14979 (85%)]\tLoss: 0.005729\n",
            "\n",
            "Test set: Average loss: 0.3772, Accuracy: 3343/3745 (89%)\n",
            "\n",
            "Train Epoch: 19 [0/14979 (0%)]\tLoss: 0.003037\n",
            "Train Epoch: 19 [6400/14979 (43%)]\tLoss: 0.004237\n",
            "Train Epoch: 19 [12800/14979 (85%)]\tLoss: 0.105200\n",
            "\n",
            "Test set: Average loss: 0.5027, Accuracy: 3268/3745 (87%)\n",
            "\n"
          ]
        }
      ]
    },
    {
      "cell_type": "markdown",
      "source": [
        "#### **Visualize the prediction**"
      ],
      "metadata": {
        "id": "Z5Fhz5UJqbVZ"
      }
    },
    {
      "cell_type": "code",
      "source": [
        "model_cnn2.to('cpu')\n",
        "\n",
        "####fetch a batch of test images\n",
        "image_batch, label_batch = next(iter(test_loader))\n",
        "image_batch_scramble = image_batch.view(-1, 28*28)\n",
        "image_batch_scramble = image_batch_scramble[:, fixed_perm]\n",
        "image_batch_scramble = image_batch_scramble.view(-1, 1, 28, 28)\n",
        "# Turn off gradients to speed up this part\n",
        "with torch.no_grad():\n",
        "    log_pred_prob_batch = model_cnn2(image_batch_scramble)\n",
        "for i in range(10):\n",
        "    img = image_batch[i]\n",
        "    img_perm = image_batch_scramble[i]\n",
        "    real_label = label_batch[i].item()\n",
        "    log_pred_prob = log_pred_prob_batch[i]\n",
        "    # Output of the network are log-probabilities, need to take exponential for probabilities\n",
        "    pred_prob = torch.exp(log_pred_prob).data.numpy().squeeze()\n",
        "    visualize_prediction(img_perm, pred_prob, real_label)"
      ],
      "metadata": {
        "colab": {
          "base_uri": "https://localhost:8080/",
          "height": 1000
        },
        "id": "PMg3BgXWqdkK",
        "outputId": "499f7231-f331-4d2a-c763-ca5ac9c20ca2"
      },
      "execution_count": 21,
      "outputs": [
        {
          "output_type": "display_data",
          "data": {
            "text/plain": [
              "<Figure size 600x800 with 2 Axes>"
            ],
            "image/png": "[encoded data removed]"
          },
          "metadata": {}
        },
        {
          "output_type": "display_data",
          "data": {
            "text/plain": [
              "<Figure size 600x800 with 2 Axes>"
            ],
            "image/png": "[encoded data removed]"
          },
          "metadata": {}
        },
        {
          "output_type": "display_data",
          "data": {
            "text/plain": [
              "<Figure size 600x800 with 2 Axes>"
            ],
            "image/png": "[encoded data removed]"
          },
          "metadata": {}
        },
        {
          "output_type": "display_data",
          "data": {
            "text/plain": [
              "<Figure size 600x800 with 2 Axes>"
            ],
            "image/png": "[encoded data removed]"
          },
          "metadata": {}
        },
        {
          "output_type": "display_data",
          "data": {
            "text/plain": [
              "<Figure size 600x800 with 2 Axes>"
            ],
            "image/png": "[encoded data removed]"
          },
          "metadata": {}
        },
        {
          "output_type": "display_data",
          "data": {
            "text/plain": [
              "<Figure size 600x800 with 2 Axes>"
            ],
            "image/png": "[encoded data removed]"
          },
          "metadata": {}
        },
        {
          "output_type": "display_data",
          "data": {
            "text/plain": [
              "<Figure size 600x800 with 2 Axes>"
            ],
            "image/png": "[encoded data removed]"
          },
          "metadata": {}
        },
        {
          "output_type": "display_data",
          "data": {
            "text/plain": [
              "<Figure size 600x800 with 2 Axes>"
            ],
            "image/png": "[encoded data removed]"
          },
          "metadata": {}
        },
        {
          "output_type": "display_data",
          "data": {
            "text/plain": [
              "<Figure size 600x800 with 2 Axes>"
            ],
            "image/png": "[encoded data removed]"
          },
          "metadata": {}
        },
        {
          "output_type": "display_data",
          "data": {
            "text/plain": [
              "<Figure size 600x800 with 2 Axes>"
            ],
            "image/png": "[encoded data removed]"
          },
          "metadata": {}
        }
      ]
    },
    {
      "cell_type": "markdown",
      "source": [
        "#### **Task-2:Build a Resnet-18 classifier for the Emotion Detection Dataset**\n",
        "- **Dataset Link:https://www.kaggle.com/datasets/ananthu017/emotion-detection-fer/data**\n",
        "- **First train a classifier from scratch**\n",
        "- **Next, fine-tune a pretrained Resnet-18 on this dataset.**\n",
        "- **For both cases show the performance on the Test set, and compare results**"
      ],
      "metadata": {
        "id": "uqi_v92yOhi7"
      }
    },
    {
      "cell_type": "code",
      "source": [
        "### Data Set import from kaggle\n",
        "!mkdir -p ~/.kaggle\n",
        "!cp kaggle.json ~/.kaggle/\n",
        "!chmod 600 ~/.kaggle/kaggle.json\n",
        "\n",
        "### Download the dataset\n",
        "!kaggle datasets download -d ananthu017/emotion-detection-fer\n",
        "\n",
        "### unzip the dataset\n",
        "!unzip -qq emotion-detection-fer.zip\n"
      ],
      "metadata": {
        "colab": {
          "base_uri": "https://localhost:8080/"
        },
        "id": "5R6MthQTOjy8",
        "outputId": "6a9cb03a-6322-4e85-fafa-29065eaa547c"
      },
      "execution_count": 4,
      "outputs": [
        {
          "output_type": "stream",
          "name": "stdout",
          "text": [
            "Dataset URL: https://www.kaggle.com/datasets/ananthu017/emotion-detection-fer\n",
            "License(s): CC0-1.0\n",
            "Downloading emotion-detection-fer.zip to /content\n",
            "  0% 0.00/65.2M [00:00<?, ?B/s]\n",
            "100% 65.2M/65.2M [00:00<00:00, 1.66GB/s]\n"
          ]
        }
      ]
    },
    {
      "cell_type": "code",
      "source": [
        "### Path of the dataset\n",
        "train_ds_path='/content/train'\n",
        "test_ds_path='/content/test'\n",
        "### Load the dataset\n",
        "train_data=datasets.ImageFolder(train_ds_path,transform=transforms.ToTensor())\n",
        "test_data=datasets.ImageFolder(test_ds_path,transform=transforms.ToTensor())\n",
        "\n",
        "train_load=DataLoader(train_data,batch_size=64,shuffle=True)\n",
        "test_load=DataLoader(test_data,batch_size=64,shuffle=False)\n"
      ],
      "metadata": {
        "id": "tPM6rPK6OmoQ"
      },
      "execution_count": 5,
      "outputs": []
    },
    {
      "cell_type": "code",
      "source": [
        "#### Class Names\n",
        "emotion_class_names = list(train_data.class_to_idx.keys())\n",
        "\n",
        "fig = plt.figure(figsize=(12, 6))\n",
        "num_class = len(emotion_class_names)\n",
        "\n",
        "vis_class = set()  ### Checking which class has been shown\n",
        "\n",
        "for images, labels in train_load:\n",
        "    for im, lb in zip(images, labels):\n",
        "        if lb.item() not in vis_class:\n",
        "            vis_class.add(lb.item())\n",
        "            ax = fig.add_subplot(1, num_class, len(vis_class))\n",
        "            ax.imshow(im.permute(1, 2, 0))\n",
        "            ax.set_title(emotion_class_names[lb.item()])\n",
        "            ax.axis('off')\n",
        "        if len(vis_class) == num_class:\n",
        "            break\n",
        "    if len(vis_class) == num_class:\n",
        "        break\n",
        "plt.tight_layout()\n",
        "plt.show()\n"
      ],
      "metadata": {
        "colab": {
          "base_uri": "https://localhost:8080/",
          "height": 213
        },
        "id": "31TFILMYOoPD",
        "outputId": "4cb0d763-a39d-4fd5-849c-d6289c1253cb"
      },
      "execution_count": 6,
      "outputs": [
        {
          "output_type": "display_data",
          "data": {
            "text/plain": [
              "<Figure size 1200x600 with 7 Axes>"
            ],
            "image/png": "[encoded data removed]"
          },
          "metadata": {}
        }
      ]
    },
    {
      "cell_type": "markdown",
      "source": [
        "- ResNet expect 3 channels image(RGB) and image size of 224x224\n",
        "- So, here we have to transform tha dataset"
      ],
      "metadata": {
        "id": "wKsp7LXHOsl9"
      }
    },
    {
      "cell_type": "code",
      "source": [
        "emotion_train_transform=transforms.Compose([\n",
        "        transforms.Resize((224,224)),\n",
        "        transforms.Grayscale(num_output_channels=3),   ## this conver grayscale to RGB\n",
        "        transforms.ToTensor(),\n",
        "        transforms.Normalize(mean=[0.485,0.456,0.406],std=[0.229,0.224,0.225])\n",
        "    ])\n",
        "emotion_test_transform=transforms.Compose([\n",
        "        transforms.Resize((224,224)),\n",
        "        transforms.Grayscale(num_output_channels=3),\n",
        "        transforms.ToTensor(),\n",
        "        transforms.Normalize(mean=[0.485,0.456,0.406],std=[0.229,0.224,0.225])\n",
        "])\n",
        "\n",
        "train_data=datasets.ImageFolder(train_ds_path,transform=emotion_train_transform)\n",
        "test_data=datasets.ImageFolder(test_ds_path,transform=emotion_test_transform)\n",
        "\n",
        "train_load=DataLoader(train_data,batch_size=64,shuffle=True)\n",
        "test_load=DataLoader(test_data,batch_size=64,shuffle=False)"
      ],
      "metadata": {
        "id": "yxiLyglBOqgc"
      },
      "execution_count": 7,
      "outputs": []
    },
    {
      "cell_type": "markdown",
      "source": [
        "#### **Load the pre-trained ResNet Model**"
      ],
      "metadata": {
        "id": "liW67lJbOvL3"
      }
    },
    {
      "cell_type": "code",
      "source": [
        "resnet=models.resnet18(pretrained=True)"
      ],
      "metadata": {
        "colab": {
          "base_uri": "https://localhost:8080/"
        },
        "id": "b5VD_5xdOyym",
        "outputId": "e0426db4-d392-4169-ae27-b0fdc81866db"
      },
      "execution_count": 8,
      "outputs": [
        {
          "output_type": "stream",
          "name": "stderr",
          "text": [
            "/usr/local/lib/python3.12/dist-packages/torchvision/models/_utils.py:208: UserWarning: The parameter 'pretrained' is deprecated since 0.13 and may be removed in the future, please use 'weights' instead.\n",
            "  warnings.warn(\n",
            "/usr/local/lib/python3.12/dist-packages/torchvision/models/_utils.py:223: UserWarning: Arguments other than a weight enum or `None` for 'weights' are deprecated since 0.13 and may be removed in the future. The current behavior is equivalent to passing `weights=ResNet18_Weights.IMAGENET1K_V1`. You can also use `weights=ResNet18_Weights.DEFAULT` to get the most up-to-date weights.\n",
            "  warnings.warn(msg)\n"
          ]
        },
        {
          "output_type": "stream",
          "name": "stdout",
          "text": [
            "Downloading: \"https://download.pytorch.org/models/resnet18-f37072fd.pth\" to /root/.cache/torch/hub/checkpoints/resnet18-f37072fd.pth\n"
          ]
        },
        {
          "output_type": "stream",
          "name": "stderr",
          "text": [
            "100%|██████████| 44.7M/44.7M [00:00<00:00, 192MB/s]\n"
          ]
        }
      ]
    },
    {
      "cell_type": "code",
      "source": [
        "### Freeze all layers except the final classification layer\n",
        "for name,param in resnet.named_parameters():\n",
        "    if 'fc' not in name:\n",
        "        param.requires_grad=False\n",
        "    else:\n",
        "      param.requires_grad=True\n",
        "### Define the loss function and optimizer\n",
        "criterion=nn.CrossEntropyLoss()\n",
        "optimizer=optim.SGD(resnet.parameters(),lr=0.001,momentum=0.9)\n",
        "\n",
        "### This is move the model to the GPU\n",
        "device=torch.device('cuda' if torch.cuda.is_available() else 'cpu')\n",
        "resnet=resnet.to(device)\n"
      ],
      "metadata": {
        "id": "z12fIZcvO0x-"
      },
      "execution_count": 9,
      "outputs": []
    },
    {
      "cell_type": "code",
      "source": [
        "\n",
        "def train_and_evaluate(model, train_loader, test_loader, criterion, optimizer, device, num_epochs=10):\n",
        "    \"\"\"\n",
        "    Train and evaluate  resnet18 model, printing loss, accuracy,\n",
        "    and a classification report .\n",
        "\n",
        "    Arguments:\n",
        "        model: resnet18(pretrained model)\n",
        "        train_loader: DataLoader for training\n",
        "        test_loader: DataLoader for testing\n",
        "        criterion: Loss function\n",
        "        optimizer: Optimizer\n",
        "        device: \"cuda\" or \"cpu\"\n",
        "        num_epochs: Number of epochs =10\n",
        "    \"\"\"\n",
        "    for epoch in range(num_epochs):\n",
        "        for phase in [\"train\", \"test\"]:\n",
        "            if phase==\"train\":\n",
        "                model.train()\n",
        "                dataloader=train_loader\n",
        "            else:\n",
        "                model.eval()\n",
        "                dataloader=test_loader\n",
        "\n",
        "            running_loss=0.0\n",
        "            correct=0\n",
        "\n",
        "\n",
        "            if epoch==num_epochs - 1 and phase== \"test\":\n",
        "                all_preds=[]\n",
        "                all_labels=[]\n",
        "\n",
        "            for inputs, labels in dataloader:\n",
        "                inputs=inputs.to(device)\n",
        "                labels=labels.to(device)\n",
        "\n",
        "                optimizer.zero_grad()\n",
        "\n",
        "                with torch.set_grad_enabled(phase == \"train\"):\n",
        "                    outputs = model(inputs)\n",
        "                    _, preds = torch.max(outputs, 1)\n",
        "                    loss = criterion(outputs, labels)\n",
        "\n",
        "                    if phase==\"train\":\n",
        "                        loss.backward()\n",
        "                        optimizer.step()\n",
        "\n",
        "                running_loss+=loss.item() * inputs.size(0)\n",
        "                correct+=torch.sum(preds == labels.data)\n",
        "\n",
        "                if epoch == num_epochs - 1 and phase == \"test\":\n",
        "                    all_preds.extend(preds.cpu().numpy())\n",
        "                    all_labels.extend(labels.cpu().numpy())\n",
        "\n",
        "            epoch_loss = running_loss / len(dataloader.dataset)\n",
        "            epoch_acc = correct.double() / len(dataloader.dataset)\n",
        "\n",
        "            print(f\"Epoch {epoch+1}/{num_epochs} | Phase: {phase} | \"\n",
        "                  f\"Loss: {epoch_loss:.4f} | Accuracy: {100*epoch_acc:.2f}%\")\n",
        "\n",
        "    #### Final classification report\n",
        "    class_names = test_loader.dataset.classes\n",
        "    print(\"\\nFinal Classification Report on Test Data:\")\n",
        "    print(classification_report(all_labels, all_preds, target_names=emotion_class_names))\n",
        "\n",
        "\n"
      ],
      "metadata": {
        "id": "6wk8Mk8WO2T2"
      },
      "execution_count": 11,
      "outputs": []
    },
    {
      "cell_type": "code",
      "source": [
        "train_and_evaluate(resnet, train_load, test_load, criterion, optimizer, device, num_epochs=10)"
      ],
      "metadata": {
        "colab": {
          "base_uri": "https://localhost:8080/"
        },
        "id": "i61I83U8QO3Q",
        "outputId": "55a52019-8c87-43f9-928a-aad046f71e60"
      },
      "execution_count": 24,
      "outputs": [
        {
          "metadata": {
            "tags": null
          },
          "name": "stdout",
          "output_type": "stream",
          "text": [
            "Epoch 1/10 | Phase: train | Loss: 1.4198 | Accuracy: 45.97%\n",
            "Epoch 1/10 | Phase: test | Loss: 1.4530 | Accuracy: 44.86%\n",
            "Epoch 2/10 | Phase: train | Loss: 1.4164 | Accuracy: 46.30%\n",
            "Epoch 2/10 | Phase: test | Loss: 1.4471 | Accuracy: 45.26%\n",
            "Epoch 3/10 | Phase: train | Loss: 1.4122 | Accuracy: 46.39%\n",
            "Epoch 3/10 | Phase: test | Loss: 1.4424 | Accuracy: 45.10%\n",
            "Epoch 4/10 | Phase: train | Loss: 1.4085 | Accuracy: 46.55%\n",
            "Epoch 4/10 | Phase: test | Loss: 1.4395 | Accuracy: 45.49%\n",
            "Epoch 5/10 | Phase: train | Loss: 1.4077 | Accuracy: 46.56%\n",
            "Epoch 5/10 | Phase: test | Loss: 1.4404 | Accuracy: 45.35%\n",
            "Epoch 6/10 | Phase: train | Loss: 1.4014 | Accuracy: 46.85%\n",
            "Epoch 6/10 | Phase: test | Loss: 1.4411 | Accuracy: 45.15%\n",
            "Epoch 7/10 | Phase: train | Loss: 1.4019 | Accuracy: 46.87%\n",
            "Epoch 7/10 | Phase: test | Loss: 1.4419 | Accuracy: 44.92%\n",
            "Epoch 8/10 | Phase: train | Loss: 1.4009 | Accuracy: 46.63%\n",
            "Epoch 8/10 | Phase: test | Loss: 1.4379 | Accuracy: 45.43%\n",
            "Epoch 9/10 | Phase: train | Loss: 1.3984 | Accuracy: 46.84%\n",
            "Epoch 9/10 | Phase: test | Loss: 1.4386 | Accuracy: 45.33%\n",
            "Epoch 10/10 | Phase: train | Loss: 1.3982 | Accuracy: 46.65%\n",
            "Epoch 10/10 | Phase: test | Loss: 1.4385 | Accuracy: 45.46%\n",
            "\n",
            "Final Classification Report on Test Data:\n",
            "              precision    recall  f1-score   support\n",
            "\n",
            "       angry       0.37      0.27      0.32       958\n",
            "   disgusted       0.19      0.04      0.06       111\n",
            "     fearful       0.33      0.20      0.25      1024\n",
            "       happy       0.59      0.62      0.60      1774\n",
            "     neutral       0.42      0.50      0.46      1233\n",
            "         sad       0.35      0.47      0.40      1247\n",
            "   surprised       0.58      0.61      0.59       831\n",
            "\n",
            "    accuracy                           0.45      7178\n",
            "   macro avg       0.40      0.39      0.38      7178\n",
            "weighted avg       0.45      0.45      0.44      7178\n",
            "\n"
          ]
        }
      ]
    },
    {
      "cell_type": "markdown",
      "source": [
        "#### **Finetune the model**"
      ],
      "metadata": {
        "id": "T0EAvuy7QRo5"
      }
    },
    {
      "cell_type": "code",
      "source": [
        "def finetunig_resenet(num_classes,train_load,testload,device,num_epochs=10):\n",
        "  \"\"\"\n",
        "  Fine tune with different learning rate for different parts of the network\n",
        "  -- Early layers get very small learning rate\n",
        "  -- Later Layefs  get higher learning rate\n",
        "\n",
        "  \"\"\"\n",
        "  print(\"-\"*100)\n",
        "  print(\"FINE TUNING APPROACH\")\n",
        "  print(\"-\"*100)\n",
        "\n",
        "  resnet=models.resnet18(pretrained=True)\n",
        "\n",
        "  ### Unfreze all layers\n",
        "  for para in resnet.parameters():\n",
        "    para.requires_grad=True\n",
        "\n",
        "  ### Modify final layer because our dataset has 7 class\n",
        "  resnet.fc=nn.Linear(resnet.fc.in_features,num_classes)\n",
        "\n",
        "  resnet=resnet.to(device)\n",
        "\n",
        "  ### Now lets define parameter with different learning rate\n",
        "  param_groups = [\n",
        "        {'params': [p for n, p in resnet.named_parameters() if 'layer1' in n], 'lr': 0.00001},\n",
        "      {'params': [p for n, p in resnet.named_parameters() if 'layer2' in n], 'lr': 0.00005},\n",
        "      {'params': [p for n, p in resnet.named_parameters() if 'layer3' in n], 'lr': 0.0001},\n",
        "        {'params': [p for n, p in resnet.named_parameters() if 'layer4' in n], 'lr': 0.0005},\n",
        "        {'params': [p for n, p in resnet.named_parameters() if 'fc' in n], 'lr': 0.001},\n",
        "        {'params': [p for n, p in resnet.named_parameters() if not any(layer in n for layer in ['layer1', 'layer2', 'layer3', 'layer4', 'fc'])], 'lr': 0.00001}\n",
        "    ]\n",
        "#### Loass function and optimizer\n",
        "  criterion=nn.CrossEntropyLoss()\n",
        "  optimizer=optim.SGD(param_groups,momentum=0.9)\n",
        "\n",
        "  #### TRAIN THE MODEL\n",
        "  train_and_evaluate(resnet, train_load, test_load, criterion, optimizer, device, num_epochs=10)\n",
        "\n",
        "  return resnet\n",
        "#### Calling the function after finetuning\n",
        "finetunig_resenet(7,train_load,test_load,device,num_epochs=10)\n"
      ],
      "metadata": {
        "colab": {
          "base_uri": "https://localhost:8080/"
        },
        "id": "TBG0NbKoQUhj",
        "outputId": "d903b493-edad-4fd6-d999-b0245cad769e"
      },
      "execution_count": 12,
      "outputs": [
        {
          "output_type": "stream",
          "name": "stdout",
          "text": [
            "----------------------------------------------------------------------------------------------------\n",
            "FINE TUNING APPROACH\n",
            "----------------------------------------------------------------------------------------------------\n",
            "Epoch 1/10 | Phase: train | Loss: 1.4846 | Accuracy: 42.91%\n",
            "Epoch 1/10 | Phase: test | Loss: 1.2969 | Accuracy: 51.45%\n",
            "Epoch 2/10 | Phase: train | Loss: 1.2069 | Accuracy: 54.90%\n",
            "Epoch 2/10 | Phase: test | Loss: 1.1849 | Accuracy: 55.35%\n",
            "Epoch 3/10 | Phase: train | Loss: 1.0812 | Accuracy: 59.84%\n",
            "Epoch 3/10 | Phase: test | Loss: 1.1269 | Accuracy: 58.16%\n",
            "Epoch 4/10 | Phase: train | Loss: 0.9800 | Accuracy: 63.80%\n",
            "Epoch 4/10 | Phase: test | Loss: 1.1093 | Accuracy: 59.08%\n",
            "Epoch 5/10 | Phase: train | Loss: 0.8886 | Accuracy: 67.36%\n",
            "Epoch 5/10 | Phase: test | Loss: 1.1057 | Accuracy: 60.50%\n",
            "Epoch 6/10 | Phase: train | Loss: 0.7913 | Accuracy: 71.40%\n",
            "Epoch 6/10 | Phase: test | Loss: 1.0818 | Accuracy: 61.16%\n",
            "Epoch 7/10 | Phase: train | Loss: 0.6845 | Accuracy: 75.88%\n",
            "Epoch 7/10 | Phase: test | Loss: 1.0951 | Accuracy: 61.49%\n",
            "Epoch 8/10 | Phase: train | Loss: 0.5769 | Accuracy: 80.17%\n",
            "Epoch 8/10 | Phase: test | Loss: 1.1471 | Accuracy: 61.21%\n",
            "Epoch 9/10 | Phase: train | Loss: 0.4582 | Accuracy: 85.30%\n",
            "Epoch 9/10 | Phase: test | Loss: 1.1813 | Accuracy: 62.04%\n",
            "Epoch 10/10 | Phase: train | Loss: 0.3428 | Accuracy: 90.02%\n",
            "Epoch 10/10 | Phase: test | Loss: 1.2444 | Accuracy: 62.69%\n",
            "\n",
            "Final Classification Report on Test Data:\n",
            "              precision    recall  f1-score   support\n",
            "\n",
            "       angry       0.55      0.52      0.54       958\n",
            "   disgusted       0.62      0.41      0.49       111\n",
            "     fearful       0.48      0.44      0.46      1024\n",
            "       happy       0.80      0.85      0.83      1774\n",
            "     neutral       0.58      0.58      0.58      1233\n",
            "         sad       0.49      0.53      0.51      1247\n",
            "   surprised       0.80      0.75      0.77       831\n",
            "\n",
            "    accuracy                           0.63      7178\n",
            "   macro avg       0.62      0.58      0.59      7178\n",
            "weighted avg       0.62      0.63      0.62      7178\n",
            "\n"
          ]
        },
        {
          "output_type": "execute_result",
          "data": {
            "text/plain": [
              "ResNet(\n",
              "  (conv1): Conv2d(3, 64, kernel_size=(7, 7), stride=(2, 2), padding=(3, 3), bias=False)\n",
              "  (bn1): BatchNorm2d(64, eps=1e-05, momentum=0.1, affine=True, track_running_stats=True)\n",
              "  (relu): ReLU(inplace=True)\n",
              "  (maxpool): MaxPool2d(kernel_size=3, stride=2, padding=1, dilation=1, ceil_mode=False)\n",
              "  (layer1): Sequential(\n",
              "    (0): BasicBlock(\n",
              "      (conv1): Conv2d(64, 64, kernel_size=(3, 3), stride=(1, 1), padding=(1, 1), bias=False)\n",
              "      (bn1): BatchNorm2d(64, eps=1e-05, momentum=0.1, affine=True, track_running_stats=True)\n",
              "      (relu): ReLU(inplace=True)\n",
              "      (conv2): Conv2d(64, 64, kernel_size=(3, 3), stride=(1, 1), padding=(1, 1), bias=False)\n",
              "      (bn2): BatchNorm2d(64, eps=1e-05, momentum=0.1, affine=True, track_running_stats=True)\n",
              "    )\n",
              "    (1): BasicBlock(\n",
              "      (conv1): Conv2d(64, 64, kernel_size=(3, 3), stride=(1, 1), padding=(1, 1), bias=False)\n",
              "      (bn1): BatchNorm2d(64, eps=1e-05, momentum=0.1, affine=True, track_running_stats=True)\n",
              "      (relu): ReLU(inplace=True)\n",
              "      (conv2): Conv2d(64, 64, kernel_size=(3, 3), stride=(1, 1), padding=(1, 1), bias=False)\n",
              "      (bn2): BatchNorm2d(64, eps=1e-05, momentum=0.1, affine=True, track_running_stats=True)\n",
              "    )\n",
              "  )\n",
              "  (layer2): Sequential(\n",
              "    (0): BasicBlock(\n",
              "      (conv1): Conv2d(64, 128, kernel_size=(3, 3), stride=(2, 2), padding=(1, 1), bias=False)\n",
              "      (bn1): BatchNorm2d(128, eps=1e-05, momentum=0.1, affine=True, track_running_stats=True)\n",
              "      (relu): ReLU(inplace=True)\n",
              "      (conv2): Conv2d(128, 128, kernel_size=(3, 3), stride=(1, 1), padding=(1, 1), bias=False)\n",
              "      (bn2): BatchNorm2d(128, eps=1e-05, momentum=0.1, affine=True, track_running_stats=True)\n",
              "      (downsample): Sequential(\n",
              "        (0): Conv2d(64, 128, kernel_size=(1, 1), stride=(2, 2), bias=False)\n",
              "        (1): BatchNorm2d(128, eps=1e-05, momentum=0.1, affine=True, track_running_stats=True)\n",
              "      )\n",
              "    )\n",
              "    (1): BasicBlock(\n",
              "      (conv1): Conv2d(128, 128, kernel_size=(3, 3), stride=(1, 1), padding=(1, 1), bias=False)\n",
              "      (bn1): BatchNorm2d(128, eps=1e-05, momentum=0.1, affine=True, track_running_stats=True)\n",
              "      (relu): ReLU(inplace=True)\n",
              "      (conv2): Conv2d(128, 128, kernel_size=(3, 3), stride=(1, 1), padding=(1, 1), bias=False)\n",
              "      (bn2): BatchNorm2d(128, eps=1e-05, momentum=0.1, affine=True, track_running_stats=True)\n",
              "    )\n",
              "  )\n",
              "  (layer3): Sequential(\n",
              "    (0): BasicBlock(\n",
              "      (conv1): Conv2d(128, 256, kernel_size=(3, 3), stride=(2, 2), padding=(1, 1), bias=False)\n",
              "      (bn1): BatchNorm2d(256, eps=1e-05, momentum=0.1, affine=True, track_running_stats=True)\n",
              "      (relu): ReLU(inplace=True)\n",
              "      (conv2): Conv2d(256, 256, kernel_size=(3, 3), stride=(1, 1), padding=(1, 1), bias=False)\n",
              "      (bn2): BatchNorm2d(256, eps=1e-05, momentum=0.1, affine=True, track_running_stats=True)\n",
              "      (downsample): Sequential(\n",
              "        (0): Conv2d(128, 256, kernel_size=(1, 1), stride=(2, 2), bias=False)\n",
              "        (1): BatchNorm2d(256, eps=1e-05, momentum=0.1, affine=True, track_running_stats=True)\n",
              "      )\n",
              "    )\n",
              "    (1): BasicBlock(\n",
              "      (conv1): Conv2d(256, 256, kernel_size=(3, 3), stride=(1, 1), padding=(1, 1), bias=False)\n",
              "      (bn1): BatchNorm2d(256, eps=1e-05, momentum=0.1, affine=True, track_running_stats=True)\n",
              "      (relu): ReLU(inplace=True)\n",
              "      (conv2): Conv2d(256, 256, kernel_size=(3, 3), stride=(1, 1), padding=(1, 1), bias=False)\n",
              "      (bn2): BatchNorm2d(256, eps=1e-05, momentum=0.1, affine=True, track_running_stats=True)\n",
              "    )\n",
              "  )\n",
              "  (layer4): Sequential(\n",
              "    (0): BasicBlock(\n",
              "      (conv1): Conv2d(256, 512, kernel_size=(3, 3), stride=(2, 2), padding=(1, 1), bias=False)\n",
              "      (bn1): BatchNorm2d(512, eps=1e-05, momentum=0.1, affine=True, track_running_stats=True)\n",
              "      (relu): ReLU(inplace=True)\n",
              "      (conv2): Conv2d(512, 512, kernel_size=(3, 3), stride=(1, 1), padding=(1, 1), bias=False)\n",
              "      (bn2): BatchNorm2d(512, eps=1e-05, momentum=0.1, affine=True, track_running_stats=True)\n",
              "      (downsample): Sequential(\n",
              "        (0): Conv2d(256, 512, kernel_size=(1, 1), stride=(2, 2), bias=False)\n",
              "        (1): BatchNorm2d(512, eps=1e-05, momentum=0.1, affine=True, track_running_stats=True)\n",
              "      )\n",
              "    )\n",
              "    (1): BasicBlock(\n",
              "      (conv1): Conv2d(512, 512, kernel_size=(3, 3), stride=(1, 1), padding=(1, 1), bias=False)\n",
              "      (bn1): BatchNorm2d(512, eps=1e-05, momentum=0.1, affine=True, track_running_stats=True)\n",
              "      (relu): ReLU(inplace=True)\n",
              "      (conv2): Conv2d(512, 512, kernel_size=(3, 3), stride=(1, 1), padding=(1, 1), bias=False)\n",
              "      (bn2): BatchNorm2d(512, eps=1e-05, momentum=0.1, affine=True, track_running_stats=True)\n",
              "    )\n",
              "  )\n",
              "  (avgpool): AdaptiveAvgPool2d(output_size=(1, 1))\n",
              "  (fc): Linear(in_features=512, out_features=7, bias=True)\n",
              ")"
            ]
          },
          "metadata": {},
          "execution_count": 12
        }
      ]
    },
    {
      "cell_type": "markdown",
      "source": [
        "### **Results Comparison**\n",
        "#### **For both cases show the performance on the Test set, and compare results**"
      ],
      "metadata": {
        "id": "vIXPypWmmsKI"
      }
    },
    {
      "cell_type": "markdown",
      "source": [
        "# 🎭 Emotion Classification Model Performance Comparison\n",
        "\n",
        "We trained a model to classify emotions from images. Below is a detailed **comparison** of the results **before** and **after fine-tuning**.\n",
        "\n",
        "---\n",
        "\n",
        "##  Overall Performance Metrics\n",
        "\n",
        "| Metric | Pre-trained Model | Fine-tuned Model | Improvement |\n",
        "|--------|------------------|------------------|-------------|\n",
        "| **Test Loss** | 1.4385 | 1.2444 | **-0.1941 (-13.5%)** |\n",
        "| **Test Accuracy** | 45.46% | 62.69% | **+17.23%** |\n",
        "| **Macro Avg F1-Score** | 0.38 | 0.59 | **+0.21 (+55.3%)** |\n",
        "| **Weighted Avg F1-Score** | 0.44 | 0.62 | **+0.18 (+40.9%)** |\n",
        "\n",
        "---\n",
        "\n",
        "##  Detailed Per-Class Comparison\n",
        "\n",
        "### Precision Comparison\n",
        "| Emotion | Pre-trained | Fine-tuned | Improvement |\n",
        "|---------|-------------|------------|-------------|\n",
        "| **Angry** | 0.37 | 0.55 | **+0.18** |\n",
        "| **Disgusted** | 0.19 | 0.62 | **+0.43** |\n",
        "| **Fearful** | 0.33 | 0.48 | **+0.15** |\n",
        "| **Happy** | 0.59 | 0.80 | **+0.21** |\n",
        "| **Neutral** | 0.42 | 0.58 | **+0.16** |\n",
        "| **Sad** | 0.35 | 0.49 | **+0.14** |\n",
        "| **Surprised** | 0.58 | 0.80 | **+0.22** |\n",
        "\n",
        "### Recall Comparison\n",
        "| Emotion | Pre-trained | Fine-tuned | Improvement |\n",
        "|---------|-------------|------------|-------------|\n",
        "| **Angry** | 0.27 | 0.52 | **+0.25** |\n",
        "| **Disgusted** | 0.04 | 0.41 | **+0.37** |\n",
        "| **Fearful** | 0.20 | 0.44 | **+0.24** |\n",
        "| **Happy** | 0.62 | 0.85 | **+0.23** |\n",
        "| **Neutral** | 0.50 | 0.58 | **+0.08** |\n",
        "| **Sad** | 0.47 | 0.53 | **+0.06** |\n",
        "| **Surprised** | 0.61 | 0.75 | **+0.14** |\n",
        "\n",
        "### F1-Score Comparison\n",
        "| Emotion | Pre-trained | Fine-tuned | Improvement | Support |\n",
        "|---------|-------------|------------|-------------|---------|\n",
        "| **Angry** | 0.32 | 0.54 | **+0.22 (+69%)** | 958 |\n",
        "| **Disgusted** | 0.06 | 0.49 | **+0.43 (+717%)** | 111 |\n",
        "| **Fearful** | 0.25 | 0.46 | **+0.21 (+84%)** | 1024 |\n",
        "| **Happy** | 0.60 | 0.83 | **+0.23 (+38%)** | 1774 |\n",
        "| **Neutral** | 0.46 | 0.58 | **+0.12 (+26%)** | 1233 |\n",
        "| **Sad** | 0.40 | 0.51 | **+0.11 (+28%)** | 1247 |\n",
        "| **Surprised** | 0.59 | 0.77 | **+0.18 (+31%)** | 831 |\n",
        "\n",
        "---\n",
        "\n",
        "##  Key Performance Insights\n",
        "\n",
        "###  **Most Improved Classes:**\n",
        "1. **Disgusted**: F1-Score improved by **717%** (0.06 → 0.49)\n",
        "2. **Fearful**: F1-Score improved by **84%** (0.25 → 0.46)  \n",
        "3. **Angry**: F1-Score improved by **69%** (0.32 → 0.54)\n",
        "\n",
        "###  **Best Performing Classes After Fine-tuning:**\n",
        "1. **Happy**: F1-Score = 0.83 (Precision: 0.80, Recall: 0.85)\n",
        "2. **Surprised**: F1-Score = 0.77 (Precision: 0.80, Recall: 0.75)\n",
        "3. **Neutral**: F1-Score = 0.58 (Precision: 0.58, Recall: 0.58)\n",
        "\n",
        "---\n",
        "\n",
        "## 📋 Complete Classification Reports\n",
        "\n",
        "###  **Before Fine-Tuning (Pre-trained Model)**\n",
        "```\n",
        "              precision    recall  f1-score   support\n",
        "\n",
        "       angry       0.37      0.27      0.32       958\n",
        "   disgusted       0.19      0.04      0.06       111\n",
        "     fearful       0.33      0.20      0.25      1024\n",
        "       happy       0.59      0.62      0.60      1774\n",
        "     neutral       0.42      0.50      0.46      1233\n",
        "         sad       0.35      0.47      0.40      1247\n",
        "   surprised       0.58      0.61      0.59       831\n",
        "\n",
        "    accuracy                           0.45      7178\n",
        "   macro avg       0.40      0.39      0.38      7178\n",
        "weighted avg       0.45      0.45      0.44      7178\n",
        "```\n",
        "**Issues**: Low overall accuracy (45.46%), very poor performance on minority classes\n",
        "\n",
        "---\n",
        "\n",
        "###  **After Fine-Tuning**\n",
        "```\n",
        "              precision    recall  f1-score   support\n",
        "\n",
        "       angry       0.55      0.52      0.54       958\n",
        "   disgusted       0.62      0.41      0.49       111\n",
        "     fearful       0.48      0.44      0.46      1024\n",
        "       happy       0.80      0.85      0.83      1774\n",
        "     neutral       0.58      0.58      0.58      1233\n",
        "         sad       0.49      0.53      0.51      1247\n",
        "   surprised       0.80      0.75      0.77       831\n",
        "\n",
        "    accuracy                           0.63      7178\n",
        "   macro avg       0.62      0.58      0.59      7178\n",
        "weighted avg       0.63      0.63      0.62      7178\n",
        "```\n",
        "**Improvements**: Significant gains across all classes, much better balance\n",
        "\n",
        "---\n",
        "\n",
        "##  **Final Summary & Conclusion**\n",
        "\n",
        "### Performance Gains:\n",
        "-  **Accuracy increased by 17.23%** (45.46% → 62.69%)\n",
        "-  **Loss decreased by 13.5%** (1.4385 → 1.2444)\n",
        "-  **Macro F1-Score improved by 55.3%** (0.38 → 0.59)\n",
        "-  **All individual classes showed improvement**\n",
        "\n",
        "### Key Achievements:\n",
        "1. **Minority Class Recovery**: The model went from barely detecting \"Disgusted\" emotions (F1: 0.06) to reasonable performance (F1: 0.49)\n",
        "2. **Balanced Performance**: No class has extremely poor performance anymore\n",
        "3. **Overall Reliability**: The model is now suitable for real-world emotion classification tasks\n",
        "4. **Maintained Strengths**: Classes that performed well before (Happy, Surprised) got even better\n",
        "\n",
        "### **Conclusion:**\n",
        "Fine-tuning the pre-trained ResNet18 model dramatically improved emotion classification performance. The model transformed from an unreliable classifier with severe class imbalance issues to a robust emotion recognition system with consistent performance across all emotion categories. This demonstrates the power of transfer learning and fine-tuning for domain-specific tasks."
      ],
      "metadata": {
        "id": "wOVU5133myll"
      }
    },
    {
      "cell_type": "code",
      "source": [],
      "metadata": {
        "id": "SyGdqB7vm14h"
      },
      "execution_count": null,
      "outputs": []
    }
  ]
}